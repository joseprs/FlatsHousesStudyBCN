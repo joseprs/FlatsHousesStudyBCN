{
 "cells": [
  {
   "cell_type": "code",
   "execution_count": 5,
   "id": "1b49ead4-f62f-4c54-9dcd-7265aaae5b9c",
   "metadata": {},
   "outputs": [],
   "source": [
    "import pandas as pd\n",
    "import time\n",
    "import numpy as np\n",
    "import matplotlib.pyplot as plt\n",
    "import seaborn as sns\n",
    "\n",
    "pd.set_option('display.max_columns', None)"
   ]
  },
  {
   "cell_type": "code",
   "execution_count": 6,
   "id": "42f81e41-27e4-4ac9-8c69-864385254c94",
   "metadata": {},
   "outputs": [
    {
     "name": "stdout",
     "output_type": "stream",
     "text": [
      "[dtype('O'), dtype('bool'), dtype('float64'), dtype('int64')]\n",
      "IQR: 5774 | Actual: 6267 | 92.13%\n",
      "IQR: 5998 | Actual: 6267 | 95.71%\n",
      "(4437, 95)\n"
     ]
    }
   ],
   "source": [
    "df_p1 = pd.read_csv(\"data1.csv\")\n",
    "df_p2 = pd.read_csv(\"data2.csv\")\n",
    "df_p3 = pd.read_csv(\"data70_140.csv\")\n",
    "df_p4 = pd.read_csv(\"data140_210.csv\")\n",
    "df_p5 = pd.read_csv(\"data210_310.csv\")\n",
    "df_p6 = pd.read_csv(\"data310_410.csv\")\n",
    "df_p7 = pd.read_csv(\"data410_500.csv\")\n",
    "df_p8 = pd.read_csv(\"data500_510.csv\")\n",
    "\n",
    "df = pd.concat([df_p1, df_p2, df_p3, df_p4, df_p5, df_p6, df_p7, df_p8]).drop_duplicates()\n",
    "\n",
    "df = df.rename(columns={\"orientation.1\":\"orientation_desc\", \"floor.1\":\"floor_desc\", \"antiquity.1\":\"antiquity_desc\", \"conservationState.1\":\"conservationState_desc\", \"hotWater.1\":\"hotWater_type_desc\", \"heating.1\":\"heating_desc\"})\n",
    "bool_features_cols = [\n",
    "    'furnished','parking', 'Aire acondicionado', 'Parquet', 'Horno', 'Microondas',\n",
    "    'Serv. portería', 'Balcón', 'Lavadero', 'Armarios', 'Calefacción',\n",
    "    'Suite - con baño', 'Nevera', 'Puerta Blindada', 'Terraza',\n",
    "    'Electrodomésticos', 'Alarma', 'Cocina Equipada', 'Lavadora',\n",
    "    'Cocina Office', 'Patio', 'Videoportero', 'Piscina', 'Gres Cerámica',\n",
    "    'Jardín Privado', 'Trastero', 'Internet', 'Domótica', 'TV',\n",
    "    'Ascensor interior', 'Sistema Video vigilancia CCTV 24h',\n",
    "    'Z. Comunitaria', 'Zona Deportiva', 'Zona Infantil',\n",
    "    'Piscina comunitaria', 'Gimnasio', 'Baño de huéspedes',\n",
    "    'Cuarto para el servicio', 'Jacuzzi', 'Bodega', 'Sauna',\n",
    "    'Cuarto lavado plancha', 'Energía Solar', 'elevator', 'Pista de Tenis', 'Porche cubierto'\n",
    "] # df.columns[45:87]\n",
    "\n",
    "for colname in bool_features_cols:\n",
    "    df[colname] = np.where(df[colname]>0, True, False)\n",
    "\n",
    "df = df[df[\"value\"]>0]\n",
    "df = df[df[\"value\"].notna()]\n",
    "df = df[(df[\"surface\"]>0) & (df[\"surface\"].notna()) & (df[\"surface\"] < 1000) & (df[\"energy_value\"]<999)]\n",
    "\n",
    "cols_drop = [\"transactions\", \"transaction_type\", \"periodicity_id\", \"energyCertificate\", \"surfaceLand\", \"countryId\", \"level1Id\",\n",
    "             \"level2Id\", \"level3Id\", \"level4Id\", \"level5Id\", \"level6Id\", \"level7Id\", \"level8Id\",\n",
    "             \"conservationState\", \"orientation\", \"hotWater\", \"heating\", \"antiquity\"] # , \"floor\"\n",
    "try:\n",
    "    df = df.drop(columns=cols_drop)\n",
    "except:\n",
    "    print(\"Some error ocurred. Maybe already dropped columns\")\n",
    "\n",
    "print(list(set(df.dtypes.to_list())))\n",
    "\n",
    "def remove_outliers_iqr(df, column):\n",
    "    q1 = df[column].quantile(0.25)\n",
    "    q3 = df[column].quantile(0.75)\n",
    "    iqr = q3 - q1\n",
    "    lower_bound = q1 - 1.5 * iqr\n",
    "    upper_bound = q3 + 1.5 * iqr\n",
    "    return df[(df[column] >= lower_bound) & (df[column] <= upper_bound)]\n",
    "\n",
    "def remove_outliers_zscore(df, column, threshold=2):\n",
    "    z_scores = np.abs((df[column] - df[column].mean()) / df[column].std())\n",
    "    return df[z_scores < threshold]\n",
    "\n",
    "df_iqr = remove_outliers_iqr(df, \"value\") # df_iqr\n",
    "df_z = remove_outliers_zscore(df, \"value\")\n",
    "\n",
    "print(f\"IQR: {len(df_iqr)} | Actual: {len(df)} | {(len(df_iqr)/len(df))*100:.2f}%\")\n",
    "print(f\"IQR: {len(df_z)} | Actual: {len(df)} | {(len(df_z)/len(df))*100:.2f}%\")\n",
    "\n",
    "df = df_iqr.copy()\n",
    "duplicates_columns = [\"value\", \"energy_value\", \"energy_letter\",\"environment_value\", \"rooms\", \"bathrooms\", \"surface\", \"floor\", \"upperLevel\"]\n",
    "df = df.drop_duplicates(subset=duplicates_columns, keep='first').reset_index(drop=True)\n",
    "print(df.shape)"
   ]
  },
  {
   "cell_type": "code",
   "execution_count": 7,
   "id": "09131056-1b55-4d7a-aa83-dfde896e6364",
   "metadata": {},
   "outputs": [],
   "source": [
    "# Defining salaries by district at 2022\n",
    "salaries_district_gross = {\n",
    "    \"Eixample\":38261,\n",
    "    \"Ciutat Vella\":24921,\n",
    "    \"Sant Martí\":33611,\n",
    "    \"Sarrià - Sant Gervasi\":54999,\n",
    "    \"Sants - Montjuïc\":29894,   \n",
    "    \"Horta - Guinardó\":30696,\n",
    "    \"Gràcia\":35923,\n",
    "    \"Nou Barris\":24785,\n",
    "    \"Les Corts\":42832,\n",
    "    \"Sant Andreu\":30326,\n",
    "}\n",
    "\n",
    "salaries_district_inflation_gross = {}\n",
    "\n",
    "for district in salaries_district_gross.keys():\n",
    "    salaries_district_inflation_gross[district] = salaries_district_gross[district] + salaries_district_gross[district]*0.035\n",
    "\n",
    "# assuming taxes considering 2 children\n",
    "salaries_district_net_children = {\n",
    "    \"Eixample\":29933,\n",
    "    \"Ciutat Vella\":20884,\n",
    "    \"Sant Martí\":26779,\n",
    "    \"Sarrià - Sant Gervasi\":40490,\n",
    "    \"Sants - Montjuïc\":24257,   \n",
    "    \"Horta - Guinardó\":24802,\n",
    "    \"Gràcia\":28349,\n",
    "    \"Nou Barris\":20790,\n",
    "    \"Les Corts\":32734,\n",
    "    \"Sant Andreu\":24550\n",
    "}\n",
    "\n",
    "# assuming taxes considering no children\n",
    "salaries_district_net_no_children = {\n",
    "    \"Eixample\":29450,\n",
    "    \"Ciutat Vella\":20399,\n",
    "    \"Sant Martí\":26295,\n",
    "    \"Sarrià - Sant Gervasi\":40000,\n",
    "    \"Sants - Montjuïc\":23774,   \n",
    "    \"Horta - Guinardó\":24316,\n",
    "    \"Gràcia\":27862,\n",
    "    \"Nou Barris\":20306,\n",
    "    \"Les Corts\":32250,\n",
    "    \"Sant Andreu\":24067\n",
    "}"
   ]
  },
  {
   "cell_type": "code",
   "execution_count": 8,
   "id": "2da7b2e4-17fd-476c-9333-98d589c6ebd9",
   "metadata": {},
   "outputs": [
    {
     "name": "stdout",
     "output_type": "stream",
     "text": [
      "431939.13101645256\n",
      "431939.1310164526\n"
     ]
    }
   ],
   "source": [
    "# preu - entrada hipoteca (per pis) = preu final --> mitjana de preu final\n",
    "# flat value + 10% taxes - 20% entry\n",
    "df[\"value_mortgage\"] = df.value + (df.value*0.105) - (df.value*0.2)\n",
    "print(np.mean(df[\"value_mortgage\"]))\n",
    "\n",
    "# mitjana de preu total - entrada hipoteca de la mitjana = preu final\n",
    "print(np.mean(df[\"value\"]) + (np.mean(df[\"value\"])*0.105) - np.mean(df[\"value\"]*0.2))\n"
   ]
  },
  {
   "cell_type": "code",
   "execution_count": 9,
   "id": "c1f41ade-1f6a-4717-a982-cb57e1bd0fb0",
   "metadata": {},
   "outputs": [],
   "source": [
    "df[\"salary_net_children\"] = df[\"level7\"].replace(salaries_district_net_children)\n",
    "df[\"salary_net_no_children\"] = df[\"level7\"].replace(salaries_district_net_no_children)\n",
    "\n",
    "# assume people should not use more than 35% of their net salary in mortgage\n",
    "df[\"salary_part_mortgage_children\"] = df[\"salary_net_children\"]*0.35\n",
    "df[\"salary_part_mortgage_no_children\"] = df[\"salary_net_no_children\"]*0.35"
   ]
  },
  {
   "cell_type": "code",
   "execution_count": 10,
   "id": "95aa0f90-c5cd-443b-9af9-ba460434a726",
   "metadata": {},
   "outputs": [
    {
     "data": {
      "text/latex": [
       "$\\displaystyle A = \\frac{P \\times r \\times (1 + r)^n}{(1 + r)^n - 1}$"
      ],
      "text/plain": [
       "<IPython.core.display.Math object>"
      ]
     },
     "metadata": {},
     "output_type": "display_data"
    },
    {
     "data": {
      "text/latex": [
       "$\\displaystyle n = \\frac{\\ln\\left(\\frac{P \\times r}{A - r \\times P}\\right)}{\\ln(1 + r)}$"
      ],
      "text/plain": [
       "<IPython.core.display.Math object>"
      ]
     },
     "metadata": {},
     "output_type": "display_data"
    },
    {
     "data": {
      "text/latex": [
       "$\\displaystyle Dims: 1x2.5m \\\\ Area: 4m^2 \\\\ Volume: 5m^3$"
      ],
      "text/plain": [
       "<IPython.core.display.Math object>"
      ]
     },
     "metadata": {},
     "output_type": "display_data"
    }
   ],
   "source": [
    "from IPython.display import display, Math\n",
    "\n",
    "display(Math(r'A = \\frac{P \\times r \\times (1 + r)^n}{(1 + r)^n - 1}'))\n",
    "display(Math(r'n = \\frac{\\ln\\left(\\frac{P \\times r}{A - r \\times P}\\right)}{\\ln(1 + r)}'))\n",
    "display(Math(r'Dims: {}x{}m \\\\ Area: {}m^2 \\\\ Volume: {}m^3'.format(1, 2.5, 4, 5)))"
   ]
  },
  {
   "cell_type": "code",
   "execution_count": 13,
   "id": "c8f7afe1-e700-4a50-a77e-5b177184ab90",
   "metadata": {},
   "outputs": [],
   "source": [
    "# df[\"years_pay_mortgage_children\"] = df[\"value_mortgage\"] / df[\"salary_part_mortgage_children\"]\n",
    "# df[\"years_pay_mortgage_no_children\"] = df[\"value_mortgage\"] / df[\"salary_part_mortgage_no_children\"]"
   ]
  },
  {
   "cell_type": "code",
   "execution_count": 14,
   "id": "3297b62b-4bfa-4df3-97f4-cf9cb9e4ead5",
   "metadata": {},
   "outputs": [],
   "source": [
    "#mean_value = df.groupby(\"level7\")[\"value\"].agg([\"mean\"]).rename(columns={\"mean\":\"value_mean\"})\n",
    "#mean_salary = df.groupby(\"level7\")[\"salary_net_children\"].agg([\"mean\"]).rename(columns={\"mean\":\"salary_mean\"})\n",
    "#mean_years = df.groupby(\"level7\")[\"years_pay_mortgage_children\"].agg([\"mean\"]).rename(columns={\"mean\":\"years_mean\"})\n",
    "\n",
    "#years_pay_summary = pd.concat([mean_value, mean_salary, mean_years], axis=1).sort_values(by=\"years_mean\", ascending=False)\n",
    "#years_pay_summary"
   ]
  },
  {
   "cell_type": "code",
   "execution_count": 15,
   "id": "029677b9-d2ac-4bca-a2ca-fe7dffdba45b",
   "metadata": {},
   "outputs": [],
   "source": [
    "# important: assuming that the person who buys the flat, has the salary and lives at the same neighbor\n",
    "# do it for the average bcn salary = 33837\n",
    "# print(\"Average years of mortgage of people with 2 children, assuming 1 person:\", np.mean(df.years_pay_mortgage_children))"
   ]
  },
  {
   "cell_type": "code",
   "execution_count": 16,
   "id": "44441e45-9c27-4b5c-a113-2d414d5ceb6b",
   "metadata": {},
   "outputs": [],
   "source": [
    "# posant el que puguis permetre. t'ensenya els pisos"
   ]
  },
  {
   "cell_type": "markdown",
   "id": "beb86cf0-9198-4ee4-9b3a-f19ec5182343",
   "metadata": {},
   "source": [
    "### Initial approach of mortgage costs"
   ]
  },
  {
   "cell_type": "code",
   "execution_count": 93,
   "id": "8d8529da-34ee-4656-9f8d-cb43dc7fff74",
   "metadata": {},
   "outputs": [
    {
     "name": "stdout",
     "output_type": "stream",
     "text": [
      "Imp per year:  11677.41935483871\n",
      "Year: 0, Taxes: 10860.0, Remaining: 362000.0\n",
      "Year: 1, Taxes: 10509.7, Remaining: 350322.6\n",
      "Year: 2, Taxes: 10159.4, Remaining: 338645.2\n",
      "Year: 3, Taxes: 9809.0, Remaining: 326967.7\n",
      "Year: 4, Taxes: 9458.7, Remaining: 315290.3\n",
      "Year: 5, Taxes: 9108.4, Remaining: 303612.9\n",
      "Year: 6, Taxes: 8758.1, Remaining: 291935.5\n",
      "Year: 7, Taxes: 8407.7, Remaining: 280258.1\n",
      "Year: 8, Taxes: 8057.4, Remaining: 268580.6\n",
      "Year: 9, Taxes: 7707.1, Remaining: 256903.2\n",
      "Year: 10, Taxes: 7356.8, Remaining: 245225.8\n",
      "Year: 11, Taxes: 7006.5, Remaining: 233548.4\n",
      "Year: 12, Taxes: 6656.1, Remaining: 221871.0\n",
      "Year: 13, Taxes: 6305.8, Remaining: 210193.5\n",
      "Year: 14, Taxes: 5955.5, Remaining: 198516.1\n",
      "Year: 15, Taxes: 5605.2, Remaining: 186838.7\n",
      "Year: 16, Taxes: 5254.8, Remaining: 175161.3\n",
      "Year: 17, Taxes: 4904.5, Remaining: 163483.9\n",
      "Year: 18, Taxes: 4554.2, Remaining: 151806.5\n",
      "Year: 19, Taxes: 4203.9, Remaining: 140129.0\n",
      "Year: 20, Taxes: 3853.5, Remaining: 128451.6\n",
      "Year: 21, Taxes: 3503.2, Remaining: 116774.2\n",
      "Year: 22, Taxes: 3152.9, Remaining: 105096.8\n",
      "Year: 23, Taxes: 2802.6, Remaining: 93419.4\n",
      "Year: 24, Taxes: 2452.3, Remaining: 81741.9\n",
      "Year: 25, Taxes: 2101.9, Remaining: 70064.5\n",
      "Year: 26, Taxes: 1751.6, Remaining: 58387.1\n",
      "Year: 27, Taxes: 1401.3, Remaining: 46709.7\n",
      "Year: 28, Taxes: 1051.0, Remaining: 35032.3\n",
      "Year: 29, Taxes: 700.6, Remaining: 23354.8\n",
      "Year: 30, Taxes: 350.3, Remaining: 11677.4\n",
      "Total payment in taxes = 173759.99999999997 | Total payment mortgage = 535760.0\n"
     ]
    }
   ],
   "source": [
    "n_years = 31\n",
    "tax = 0.03\n",
    "initial_imp = 400000\n",
    "imp = initial_imp + (initial_imp*0.105) - (initial_imp*0.2)\n",
    "\n",
    "imp_year = imp / (n_years)\n",
    "taxes = []\n",
    "print(\"Imp per year: \", imp_year)\n",
    "for i, year in enumerate(range(0,n_years)):\n",
    "    print(f\"Year: {year}, Taxes: {(imp-imp_year*year)*tax:.1f}, Remaining: {imp-imp_year*year:.1f}\")\n",
    "    taxes.append((imp-imp_year*year)*tax)\n",
    "\n",
    "total_payment = np.sum(taxes) + imp\n",
    "print(\"Total payment in taxes =\", np.sum(taxes), \"| Total payment mortgage =\", total_payment)\n"
   ]
  },
  {
   "cell_type": "markdown",
   "id": "24dfffe0-1b86-4c47-9742-d8f27341080b",
   "metadata": {},
   "source": [
    "### Simplified calculation of mortgage cost"
   ]
  },
  {
   "cell_type": "code",
   "execution_count": 96,
   "id": "fb470fbb-29e0-41e5-bb51-6d9fcdf0eda5",
   "metadata": {},
   "outputs": [
    {
     "name": "stdout",
     "output_type": "stream",
     "text": [
      "Total payment in taxes = 173760.0 | Total payment mortgage = 535760.0\n",
      "Total payment per year = 17282.58064516129 | Affordable salary = 17500.0\n",
      "Can pay? True\n"
     ]
    }
   ],
   "source": [
    "n_years = 31\n",
    "tax = 0.03\n",
    "initial_imp = 400000\n",
    "imp = initial_imp + (initial_imp*0.105) - (initial_imp*0.2)\n",
    "\n",
    "net_salary = 50000\n",
    "mortgage_salary = net_salary * 0.35\n",
    "\n",
    "total_taxes = (n_years/2)*((imp*tax)+(imp_year*tax))\n",
    "total_payment = imp + total_taxes\n",
    "\n",
    "print(\"Total payment in taxes =\", total_taxes, \"| Total payment mortgage =\", total_payment)\n",
    "print(\"Total payment per year =\", total_payment / n_years, \"| Affordable salary =\", mortgage_salary)\n",
    "print(\"Can pay?\", mortgage_salary > total_payment / n_years)"
   ]
  },
  {
   "cell_type": "markdown",
   "id": "529915cf-947d-47d3-bb39-c267b452a1ab",
   "metadata": {},
   "source": [
    "### Calculation of the optimal years to pay the mortgage depending on the salary"
   ]
  },
  {
   "cell_type": "code",
   "execution_count": 97,
   "id": "51c50315-ff8b-4db2-bfc1-23ee82b6462c",
   "metadata": {},
   "outputs": [
    {
     "name": "stdout",
     "output_type": "stream",
     "text": [
      "Imp before taxes =  362000.0\n",
      "Anual salary to allocate towards the mortgage = 17500.0\n",
      "Minimum taxes to pay = 173760.0\n",
      "Minimum years to pay = 31\n"
     ]
    },
    {
     "data": {
      "image/png": "[encoded data removed]",
      "text/plain": [
       "<Figure size 640x480 with 1 Axes>"
      ]
     },
     "metadata": {},
     "output_type": "display_data"
    }
   ],
   "source": [
    "tax = 0.03\n",
    "initial_imp = 400000\n",
    "imp = initial_imp + (initial_imp*0.105) - (initial_imp*0.2)\n",
    "print(\"Imp before taxes = \",imp)\n",
    "\n",
    "net_salary = 50000\n",
    "mortgage_salary = net_salary * 0.35\n",
    "print(\"Anual salary to allocate towards the mortgage =\", mortgage_salary)\n",
    "\n",
    "n_years_list = np.arange(2,71)\n",
    "payment_per_year_list = []\n",
    "total_taxes_year_list = []\n",
    "minimum_year_affordable = 70\n",
    "\n",
    "for i, n_years in enumerate(n_years_list, start=2):\n",
    "    total_taxes = (n_years/2)*((imp*tax)+(imp_year*tax))\n",
    "    total_payment = imp + total_taxes\n",
    "    payment_per_year = total_payment / n_years\n",
    "    payment_per_year_list.append(payment_per_year)\n",
    "    total_taxes_year_list.append(total_taxes)\n",
    "    \n",
    "    if (payment_per_year <= mortgage_salary) & (i<minimum_year_affordable):\n",
    "        minimum_year_affordable = i\n",
    "        payment_affordable = payment_per_year\n",
    "        minimum_taxes_pay = total_taxes\n",
    "\n",
    "print(\"Minimum taxes to pay =\", minimum_taxes_pay)\n",
    "print(\"Minimum years to pay =\", minimum_year_affordable)\n",
    "plt.plot(n_years_list, payment_per_year_list, 'bo', label='payment per year')\n",
    "plt.plot(minimum_year_affordable, payment_affordable, 'ro', label='optimal years can afford')\n",
    "plt.plot(n_years_list, total_taxes_year_list, 'yo', label='taxes')\n",
    "plt.legend()\n",
    "plt.title(\"price per year depending on number of mortgage years\")\n",
    "plt.xlabel(\"Mortgage years\")\n",
    "plt.ylabel(\"Price per year\")\n",
    "plt.show()\n"
   ]
  },
  {
   "cell_type": "code",
   "execution_count": null,
   "id": "94e07c8e-7e53-4b52-8a47-8349c2014230",
   "metadata": {},
   "outputs": [],
   "source": []
  }
 ],
 "metadata": {
  "kernelspec": {
   "display_name": "Python 3 (ipykernel)",
   "language": "python",
   "name": "python3"
  },
  "language_info": {
   "codemirror_mode": {
    "name": "ipython",
    "version": 3
   },
   "file_extension": ".py",
   "mimetype": "text/x-python",
   "name": "python",
   "nbconvert_exporter": "python",
   "pygments_lexer": "ipython3",
   "version": "3.8.10"
  }
 },
 "nbformat": 4,
 "nbformat_minor": 5
}
