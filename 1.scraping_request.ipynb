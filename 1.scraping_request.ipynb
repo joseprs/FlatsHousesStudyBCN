{
 "cells": [
  {
   "cell_type": "markdown",
   "id": "8ded5682-c1dc-4efd-9e62-261cd2d41cb4",
   "metadata": {},
   "source": [
    "# Flats Web Scraping"
   ]
  },
  {
   "cell_type": "markdown",
   "id": "96a89df7-5bc2-437e-bb54-e419ab4d3628",
   "metadata": {},
   "source": [
    "After attempting various **web scraping techniques**, automating screen-by-screen navigation through the user interface, and extracting data from the webpage's front-end (using libraries such as Selenium), we have decided that the most optimal and quickest method is to **retrieve the data directly from the communication between the front-end and the back-end. This is achieved by directly accessing the file passed from the back-end to the front-end of the webpage for its corresponding visualization**.\n",
    "\n",
    "To do this, **we need the link to this file, and we will retrieve its content using the 'requests' library.**"
   ]
  },
  {
   "cell_type": "code",
   "execution_count": 4,
   "id": "b48a4eb6-5e3b-44f9-9b33-9e3416c3be1a",
   "metadata": {},
   "outputs": [],
   "source": [
    "import pandas as pd\n",
    "import time\n",
    "import numpy as np\n",
    "import matplotlib.pyplot as plt\n",
    "import seaborn as sns\n",
    "\n",
    "import requests\n",
    "from tqdm import tqdm"
   ]
  },
  {
   "cell_type": "code",
   "execution_count": 5,
   "id": "43c4854b-4444-4b94-9710-7ab641402834",
   "metadata": {},
   "outputs": [],
   "source": [
    "pd.set_option('display.max_columns', None)"
   ]
  },
  {
   "cell_type": "markdown",
   "id": "65fef952-1388-4841-8074-601e6e79cd55",
   "metadata": {},
   "source": [
    "## Scraping directly from back-end request"
   ]
  },
  {
   "cell_type": "markdown",
   "id": "29310f32-f633-42f2-90a9-7002b61f5ea4",
   "metadata": {},
   "source": [
    "Basically, we will obtain **two types of files** (with two types of url):\n",
    "\n",
    "- File containing a **list of flats**: Each one contains a list of 30 flats on that screen and their general information, including the **apartment ID**.\n",
    "- File containing **detailed information of the flat**: Given the ID of the previous apartments, we can obtain the URL of each apartment and scrape all its information."
   ]
  },
  {
   "cell_type": "code",
   "execution_count": 17,
   "id": "bcfc1d08-4bcf-440e-b20a-412a27082655",
   "metadata": {},
   "outputs": [
    {
     "name": "stdout",
     "output_type": "stream",
     "text": [
      "30 Flats. First 5 IDs: [181204442, 181660975, 179469252, 182570237, 182570236]\n"
     ]
    }
   ],
   "source": [
    "# File containing a list of flats\n",
    "url = \"https://web.gw.fotocasa.es/v2/propertysearch/search?combinedLocationIds=724,9,8,232,376,8019,0,0,0&culture=es-ES&includePurchaseTypeFacets=true&isMap=false&isNewConstructionPromotions=false&latitude=41.3854&longitude=2.17754&pageNumber=2&platformId=1&propertyTypeId=2&sortOrderDesc=true&sortType=scoring&transactionTypeId=1\"\n",
    "headers = {\n",
    "    'authority': 'www.google.com',\n",
    "    'accept': 'text/html,application/xhtml+xml,application/xml;q=0.9,image/avif,image/webp,image/apng,*/*;q=0.8,application/signed-exchange;v=b3;q=0.7',\n",
    "    'accept-language': 'en-US,en;q=0.9',\n",
    "    'cache-control': 'max-age=0',\n",
    "    'user-agent': 'Mozilla/5.0 (Windows NT 10.0; Win64; x64) AppleWebKit/537.36 (KHTML, like Gecko) Chrome/115.0.0.0 Safari/537.36',\n",
    "}\n",
    "\n",
    "response = requests.get(url, headers=headers)\n",
    "data = response.json()\n",
    "page_ids = [data[\"realEstates\"][i][\"id\"] for i in range(0,len(data[\"realEstates\"]))]\n",
    "\n",
    "print(f\"{len(page_ids)} Flats. First 5 IDs:\",page_ids[0:5])"
   ]
  },
  {
   "cell_type": "code",
   "execution_count": 35,
   "id": "356013a9-b430-4d0a-939f-e2d57e96a705",
   "metadata": {},
   "outputs": [
    {
     "name": "stdout",
     "output_type": "stream",
     "text": [
      "Flat Value: 420500€\n"
     ]
    }
   ],
   "source": [
    "# File containing detailed information of the flat\n",
    "url = f\"https://web.gw.fotocasa.es/v2/propertysearch/property?culture=es-ES&locale=es-ES&transactionType=1&periodicityId=0&id={page_ids[12]}\"\n",
    "response = requests.get(url, headers=headers)\n",
    "data = response.json()\n",
    "print(\"Flat Value:\", f'{data[\"transactions\"][0][\"value\"][0]}€', )"
   ]
  },
  {
   "cell_type": "code",
   "execution_count": 36,
   "id": "2d30bb19-1f66-4097-938e-a43c9392aef9",
   "metadata": {},
   "outputs": [],
   "source": [
    "def get_num_multi_dict(multi_data):\n",
    "    num_multi = {}\n",
    "    for multi in multi_data:\n",
    "        try: num_multi[f'multimedia_type_{multi[\"typeId\"]}'] += 1\n",
    "        except: num_multi[f'multimedia_type_{multi[\"typeId\"]}'] = 1\n",
    "    return num_multi\n"
   ]
  },
  {
   "cell_type": "markdown",
   "id": "366a8767-118f-4d8b-b3c9-78a738079949",
   "metadata": {},
   "source": [
    "## Scraping all pages"
   ]
  },
  {
   "cell_type": "markdown",
   "id": "27e7d5bd-21e1-4f60-9d97-bf1d8cd69455",
   "metadata": {},
   "source": [
    "Knowing the number of pages (with 30 flats each), we have developed a code prepared to **navigate through each page and flat, prepared to handle possible errors and various request restrictions**, and **store all the information of each flat for later retrieval and analysis**.\n",
    "\n",
    "Usually, **when we process many consecutive pages, the server blocks our access for a while**. There are different methods to deal with this. We can program to **change the UserAgent when this happens, or change the IP address periodically** so that the server doesn't detect the massive scraping. I have tried these methods, and **it is also useful to wait for a while and then rerun the code from the page where we left off**.\n",
    "\n",
    "Even though there should be 14310 flats (477 pages * 30 flats per page), we've only managed to **extract approximately 9000 unique flats**. It's more probable that the 477 page count isn't accurate, in order to exaggerate the available inventory, rather than an issue with our scraping process."
   ]
  },
  {
   "cell_type": "code",
   "execution_count": 41,
   "id": "9b7db37b-c7f4-4cd3-b94a-9a87433df8c0",
   "metadata": {},
   "outputs": [
    {
     "data": {
      "image/png": "[encoded data removed]",
      "text/plain": [
       "<IPython.core.display.Image object>"
      ]
     },
     "execution_count": 41,
     "metadata": {},
     "output_type": "execute_result"
    }
   ],
   "source": [
    "from IPython.display import Image\n",
    "Image(\"media/pages_scrapping.png\")"
   ]
  },
  {
   "cell_type": "code",
   "execution_count": 42,
   "id": "93fce54e-bbd6-4f0f-bd50-9a65a0ece2e7",
   "metadata": {},
   "outputs": [],
   "source": [
    "init_page = 0\n",
    "final_page = 1\n"
   ]
  },
  {
   "cell_type": "code",
   "execution_count": 43,
   "id": "937258b8-26de-46dc-944a-739bc9835e52",
   "metadata": {},
   "outputs": [
    {
     "name": "stderr",
     "output_type": "stream",
     "text": [
      "100%|█████████████████████████████████████████████| 1/1 [01:06<00:00, 66.98s/it]\n"
     ]
    }
   ],
   "source": [
    "id_list = []\n",
    "type_list = []\n",
    "subtype_list = []\n",
    "is_external_contract_list = []\n",
    "is_invalid_list = []\n",
    "is_new_list = []\n",
    "advertiser_name_list = []\n",
    "num_multi_list = []\n",
    "descriptions_esp_list = []\n",
    "descriptions_eng_list = []\n",
    "features_list = []\n",
    "features2_list = [] \n",
    "features3_list = [] \n",
    "num_transacions_list = []\n",
    "trans_type_id_list = []\n",
    "value_list = []\n",
    "reduced_list = []\n",
    "periodicity_id_list = []\n",
    "\n",
    "ubication_list = []\n",
    "location_list = []\n",
    "coordinates_list = []\n",
    "zipcode_list = []\n",
    "highlight_list = []\n",
    "date_list = []\n",
    "\n",
    "energy_letter_list = []\n",
    "energy_value_list = []\n",
    "environment_letter_list = []\n",
    "environment_value_list = []\n",
    "\n",
    "headers = {\n",
    "    'authority': 'www.google.com',\n",
    "    'accept': 'text/html,application/xhtml+xml,application/xml;q=0.9,image/avif,image/webp,image/apng,*/*;q=0.8,application/signed-exchange;v=b3;q=0.7',\n",
    "    'accept-language': 'en-US,en;q-=0.9',\n",
    "    'cache-control': 'max-age=0',\n",
    "    'user-agent': 'Mozilla/5.0 (Windows NT 10.0; Win64; x64) AppleWebKit/537.36 (KHTML, like Gecko) Chrome/115.0.0.0 Safari/537.36',\n",
    "    }\n",
    "\n",
    "for i in tqdm(range(init_page, final_page)):\n",
    "    \n",
    "    url = f\"https://web.gw.fotocasa.es/v2/propertysearch/search?combinedLocationIds=724,9,8,232,376,8019,0,0,0&culture=es-ES&includePurchaseTypeFacets=true&isMap=false&isNewConstructionPromotions=false&latitude=41.3854&longitude=2.17754&pageNumber={i}&platformId=1&propertyTypeId=2&sortOrderDesc=true&sortType=scoring&transactionTypeId=1\"\n",
    "    \n",
    "    try:\n",
    "        response = requests.get(url, headers=headers)\n",
    "        data_ids = response.json()\n",
    "        page_ids = [data_ids[\"realEstates\"][i][\"id\"] for i in range(0,len(data_ids[\"realEstates\"]))]\n",
    "    except:\n",
    "        print(f\"Error trying to get response or generating json in page {i}\")\n",
    "        continue\n",
    "        \n",
    "    for id in page_ids:\n",
    "        url = f\"https://web.gw.fotocasa.es/v2/propertysearch/property?culture=es-ES&locale=es-ES&transactionType=1&periodicityId=0&id={id}\"\n",
    "        try:\n",
    "            response = requests.get(url, headers=headers)\n",
    "        except:\n",
    "            print(f\"Error trying to reach the response by requests.get(url) in ID {id}\")\n",
    "\n",
    "        if response.status_code == 403:\n",
    "            print(f\"Error in request for ID {id} and I {i}. Status code: {response.status_code}\")\n",
    "            break\n",
    "        \n",
    "        try:\n",
    "            data = response.json()\n",
    "        except Exception as e:\n",
    "            print(f\"Error parsing JSON for ID {id}: {e}\")\n",
    "            continue\n",
    "        \n",
    "        try:\n",
    "            # Basic Data\n",
    "            id_val = data[\"id\"]\n",
    "            type_val = data[\"typeId\"]\n",
    "            subtype_val = data[\"subtypeId\"]\n",
    "            is_external_contract_val = data[\"isExternalContact\"]\n",
    "            is_invalid_val = data[\"isInvalid\"]\n",
    "            is_new_val = data[\"isNew\"]\n",
    "            advertiser_name_val = data[\"advertiser\"][\"name\"]\n",
    "            num_multi_val = get_num_multi_dict(data[\"multimedias\"])\n",
    "            descriptions_esp_val = data[\"descriptions\"][\"es-ES\"]\n",
    "        \n",
    "            # Features and Characteristics\n",
    "            features_dict = {list(data[\"features\"][i].keys())[0]:list(data[\"features\"][i].values())[0] for i in range(0,len(data[\"features\"]))}\n",
    "            features2_dict = {data[\"featuresList\"][i][\"label\"]:data[\"featuresList\"][i][\"value\"] for i in range(0,len(data[\"featuresList\"]))}\n",
    "            features3_dict = {list(data[\"otherFeatures\"][i].keys())[0]:list(data[\"otherFeatures\"][i].values())[0] for i in range(0,len(data[\"otherFeatures\"]))}\n",
    "            features3_swap_dict = {v:k for k,v in features3_dict.items()}\n",
    "        \n",
    "            # Price Data\n",
    "            num_transactions = len(data[\"transactions\"])\n",
    "            trans_type_id_val = data[\"transactions\"][0][\"transactionTypeId\"]\n",
    "            value_val = data[\"transactions\"][0][\"value\"][0]\n",
    "            reduced_val = data[\"transactions\"][0][\"reduced\"]\n",
    "            periodicity_id_val = data[\"transactions\"][0][\"periodicityId\"]\n",
    "            \n",
    "            # Ubication\n",
    "            ubication_val = data[\"address\"][\"ubication\"]\n",
    "            location_val = data[\"address\"][\"location\"]\n",
    "            coordinates_val = data[\"address\"][\"coordinates\"]\n",
    "            zipcode_val = data[\"address\"][\"zipCode\"]\n",
    "        \n",
    "            # Additional data\n",
    "            highlight_val = data[\"highlight\"]\n",
    "            date_val = data[\"date\"]\n",
    "            energy_letter_val = data[\"propertyEnergyCertificate\"][\"energyEfficiencyRatingTypeId\"]\n",
    "            energy_value_val = data[\"propertyEnergyCertificate\"][\"energyEfficiencyValue\"]\n",
    "            environment_letter_val = data[\"propertyEnergyCertificate\"][\"environmentImpactRatingTypeId\"]\n",
    "            environment_value_val = data[\"propertyEnergyCertificate\"][\"environmentImpactValue\"]\n",
    "        \n",
    "        except:\n",
    "            print(\"Error reading features.\")\n",
    "            continue\n",
    "\n",
    "        id_list.append(id_val)\n",
    "        type_list.append(type_val)\n",
    "        subtype_list.append(subtype_val)\n",
    "        is_external_contract_list.append(is_external_contract_val)\n",
    "        is_invalid_list.append(is_invalid_val)\n",
    "        is_new_list.append(is_new_val)\n",
    "        advertiser_name_list.append(advertiser_name_val)\n",
    "        num_multi_list.append(num_multi_val)\n",
    "        descriptions_esp_list.append(descriptions_esp_val)\n",
    "        features_list.append(features_dict)    \n",
    "        features2_list.append(features2_dict)\n",
    "        features3_list.append(features3_swap_dict)\n",
    "        num_transacions_list.append(num_transactions)\n",
    "        trans_type_id_list.append(trans_type_id_val)\n",
    "        value_list.append(value_val)\n",
    "        reduced_list.append(reduced_val)\n",
    "        periodicity_id_list.append(periodicity_id_val)\n",
    "        ubication_list.append(ubication_val)\n",
    "        location_list.append(location_val)\n",
    "        coordinates_list.append(coordinates_val)\n",
    "        zipcode_list.append(zipcode_val)\n",
    "        highlight_list.append(highlight_val)\n",
    "        date_list.append(date_val)\n",
    "        energy_letter_list.append(energy_letter_val)\n",
    "        energy_value_list.append(energy_value_val)\n",
    "        environment_letter_list.append(environment_letter_val)\n",
    "        environment_value_list.append(environment_value_val)\n",
    "        \n",
    "        time.sleep(2)\n"
   ]
  },
  {
   "cell_type": "code",
   "execution_count": 51,
   "id": "969b8291-a6e1-457c-a522-d884a0cdc18a",
   "metadata": {},
   "outputs": [
    {
     "name": "stdout",
     "output_type": "stream",
     "text": [
      "Extracted flats: 30 Expected: 30 100.0%\n"
     ]
    }
   ],
   "source": [
    "# Number of extracted flats\n",
    "expected_len = (final_page-init_page)*30\n",
    "print(\"Extracted flats:\", len(value_list), \"Expected:\", expected_len, f\"{(len(value_list)/expected_len)*100}%\")\n"
   ]
  },
  {
   "cell_type": "code",
   "execution_count": 49,
   "id": "8f37312b-c3d3-4d68-829b-27c4f2dc9a77",
   "metadata": {},
   "outputs": [],
   "source": [
    "# Create DataFrames and Join all Scraped Data\n",
    "df_basics = pd.DataFrame({\"id\":id_list, \"type\":type_list, \"subtype\":subtype_list, \"external_contract\":is_external_contract_list, \"invalid\":is_invalid_list, \"new\":is_new_list, \"advertiser\":advertiser_name_list, \"description\":descriptions_esp_list,\n",
    "                   \"transactions\":num_transacions_list, \"transaction_type\":trans_type_id_list, \"value\":value_list, \"reduced\":reduced_list, \"periodicity_id\":periodicity_id_list,\n",
    "                   \"ubication\": ubication_list, \"zipcode\": zipcode_list,\n",
    "                   \"highlight\":highlight_list, \"date\":date_list, \"energy_letter\":energy_letter_list, \"energy_value\":energy_value_list, \"environment_letter\":environment_letter_list, \"environment_value\":environment_value_list})\n",
    "\n",
    "\n",
    "df_from_dicts = pd.concat([pd.DataFrame(num_multi_list),\n",
    "                           pd.DataFrame(features_list),\n",
    "                           pd.DataFrame(features2_list),\n",
    "                           pd.DataFrame(features3_list),\n",
    "                           pd.DataFrame(location_list),\n",
    "                           pd.DataFrame(coordinates_list),\n",
    "                          ],axis=1)\n",
    "\n",
    "df = pd.concat([df_basics, df_from_dicts], axis=1)"
   ]
  },
  {
   "cell_type": "code",
   "execution_count": 48,
   "id": "e355eb1b-2848-45e7-b062-7ab3471c6897",
   "metadata": {},
   "outputs": [],
   "source": [
    "# Save DataFrame\n",
    "# df.to_csv(f\"data{init_page}_{final_page}.csv\", index=False)"
   ]
  }
 ],
 "metadata": {
  "kernelspec": {
   "display_name": "Python 3 (ipykernel)",
   "language": "python",
   "name": "python3"
  },
  "language_info": {
   "codemirror_mode": {
    "name": "ipython",
    "version": 3
   },
   "file_extension": ".py",
   "mimetype": "text/x-python",
   "name": "python",
   "nbconvert_exporter": "python",
   "pygments_lexer": "ipython3",
   "version": "3.8.10"
  }
 },
 "nbformat": 4,
 "nbformat_minor": 5
}
