{
 "cells": [
  {
   "cell_type": "code",
   "execution_count": 39,
   "id": "cb5a239f-ed6c-4a00-a258-c81e111019de",
   "metadata": {},
   "outputs": [],
   "source": [
    "import selenium\n",
    "from selenium import webdriver\n",
    "from selenium.webdriver.support.ui import WebDriverWait\n",
    "from selenium.webdriver.chrome.service import Service\n",
    "import time\n",
    "import os\n",
    "import pandas as pd\n",
    "from fake_useragent import UserAgent\n",
    "from bs4 import BeautifulSoup\n",
    "\n",
    "from tqdm import tqdm"
   ]
  },
  {
   "cell_type": "code",
   "execution_count": 40,
   "id": "47a86c00-25bb-4ffe-a665-0d086f331239",
   "metadata": {},
   "outputs": [],
   "source": [
    "from selenium.webdriver.common.by import By\n",
    "from selenium.webdriver.support import expected_conditions as EC\n",
    "from selenium.webdriver.common.keys import Keys\n",
    "from selenium.webdriver.common.action_chains import ActionChains\n"
   ]
  },
  {
   "cell_type": "code",
   "execution_count": 41,
   "id": "3bd67269-86d6-44a1-b6d0-9f4512c8835c",
   "metadata": {},
   "outputs": [],
   "source": [
    "driver_path = '/Users/josep/Documents/chromedriver-mac-x64/chromedriver'"
   ]
  },
  {
   "cell_type": "code",
   "execution_count": 42,
   "id": "4d1924e9-07e6-4b71-aa8a-85e58fe00e20",
   "metadata": {},
   "outputs": [],
   "source": [
    "def scroll_page(scrolls_num):\n",
    "    for _ in range(scrolls_num):\n",
    "        driver.find_element(By.TAG_NAME, 'body').send_keys(Keys.PAGE_DOWN)\n",
    "        time.sleep(1)"
   ]
  },
  {
   "cell_type": "code",
   "execution_count": 55,
   "id": "cb68b700-e392-485a-b9f7-cb727c87768a",
   "metadata": {},
   "outputs": [],
   "source": [
    "def get_detailed_info():\n",
    "    \n",
    "    # Reading price\n",
    "    price = WebDriverWait(driver, 10).until(\n",
    "        EC.presence_of_element_located((By.XPATH, \"//span[@class='re-DetailHeader-price']\"))\n",
    "    ).text\n",
    "\n",
    "    try:\n",
    "        discount = WebDriverWait(driver, 3).until(\n",
    "            EC.presence_of_element_located((By.XPATH, \"//div[@class='re-DetailHeader-reducedPrice']\"))\n",
    "        ).text\n",
    "    except:\n",
    "        discount = 'No hay descuento'\n",
    "    \n",
    "    # Reading basic Features\n",
    "    basic_features = WebDriverWait(driver, 10).until(\n",
    "        EC.presence_of_element_located((By.XPATH, \"//ul[@class='re-DetailHeader-features']\"))\n",
    "    )\n",
    "    basic_features_list = basic_features.text.split('\\n')\n",
    "    features = {f\"feature{i}\": basic_features_list[i] for i in range(0, len(basic_features_list))}\n",
    "\n",
    "    # Reading title and subtitle\n",
    "    title = WebDriverWait(driver, 10).until(\n",
    "        EC.presence_of_element_located((By.XPATH, \"//h1[@class='re-DetailHeader-propertyTitle']\"))\n",
    "    ).text\n",
    "    subtitle = WebDriverWait(driver, 10).until(\n",
    "        EC.presence_of_element_located((By.XPATH, \"//p[@class='re-DetailHeader-municipalityTitle']\"))\n",
    "    ).text\n",
    "    \n",
    "    # Reading description (click read more)\n",
    "    description = WebDriverWait(driver, 10).until(\n",
    "        EC.presence_of_element_located((By.XPATH, \"//p[@class='fc-DetailDescription']\"))\n",
    "    ).text\n",
    "    \n",
    "    # Characteristics\n",
    "    names = WebDriverWait(driver, 10).until(\n",
    "        EC.presence_of_all_elements_located((By.XPATH, \"//p[@class='re-DetailFeaturesList-featureLabel']\"))\n",
    "    )\n",
    "    names_list = [n.text for n in names]\n",
    "    characteristics = WebDriverWait(driver, 10).until(\n",
    "        EC.presence_of_all_elements_located((By.XPATH, \"//p[@class='re-DetailFeaturesList-featureValue']\"))\n",
    "    )\n",
    "    characteristics_list = [c.text for c in characteristics]\n",
    "    characteristics = {name:c for name, c in zip(names_list, characteristics_list)}\n",
    "    \n",
    "    # Extra characteristics\n",
    "    extras = WebDriverWait(driver, 10).until(\n",
    "        EC.presence_of_element_located((By.XPATH, \"//ul[@class='re-DetailExtras-list']\"))\n",
    "    )\n",
    "    extras_list = extras.text.split(\"\\n\")\n",
    "    \n",
    "    # Address\n",
    "    # driver.execute_script(\"arguments[0].scrollIntoView(true);\", extras)\n",
    "    time.sleep(1)\n",
    "    address = WebDriverWait(driver, 20).until(\n",
    "        EC.presence_of_element_located((By.XPATH, \"//h2[@class='re-DetailMap-address']\"))\n",
    "    ).text\n",
    "\n",
    "    return price, discount, features, title, subtitle, description, characteristics, extras_list, address\n",
    "\n"
   ]
  },
  {
   "cell_type": "code",
   "execution_count": 56,
   "id": "e6623eb5-bbe8-4e84-9743-553dfaa3ae04",
   "metadata": {},
   "outputs": [],
   "source": [
    "service = Service(executable_path=driver_path)\n",
    "options = webdriver.ChromeOptions()\n",
    "options.add_argument('--blink-settings=imagesEnabled=false')\n",
    "options.add_argument('--ignore-certificate-errors')\n",
    "options.add_argument('--incognito')\n",
    "user_agent = UserAgent()\n",
    "options.add_argument(f'user-agent={user_agent.random}')\n",
    "driver = webdriver.Chrome(service=service, options=options)\n",
    "\n",
    "driver.get(\"https://www.fotocasa.es/\")\n",
    "\n",
    "# Deny cookies button\n",
    "button = WebDriverWait(driver, 10).until(\n",
    "    EC.presence_of_element_located((By.XPATH, \"//button[@id='didomi-notice-agree-button']\"))\n",
    ")\n",
    "button.click()\n",
    "\n",
    "# Detect and write in placeholder\n",
    "buscador = WebDriverWait(driver, 10).until(\n",
    "    EC.presence_of_element_located((By.XPATH, \"//input[@class='sui-AtomInput-input sui-AtomInput-input-size-m']\"))\n",
    ")\n",
    "buscador.send_keys(\"Barcelona\")\n",
    "\n",
    "# Click Barcelona Capital \n",
    "button_bcn = WebDriverWait(driver, 10).until(\n",
    "    EC.presence_of_element_located((By.XPATH, \"//li[@data-value='Barcelona Capital, Barcelona']\"))\n",
    ")\n",
    "button_bcn.click()\n",
    "\n",
    "time.sleep(3)\n",
    "\n"
   ]
  },
  {
   "cell_type": "code",
   "execution_count": 58,
   "id": "a846ede6-38c3-4bc0-9061-f12343d66eaa",
   "metadata": {},
   "outputs": [
    {
     "name": "stderr",
     "output_type": "stream",
     "text": [
      " 57%|████████████████████████▎                  | 17/30 [07:40<05:51, 27.07s/it]\n"
     ]
    },
    {
     "ename": "TimeoutException",
     "evalue": "Message: \nStacktrace:\n0   chromedriver                        0x0000000102605168 chromedriver + 4673896\n1   chromedriver                        0x00000001025fc9c3 chromedriver + 4639171\n2   chromedriver                        0x00000001021f0fdd chromedriver + 397277\n3   chromedriver                        0x000000010223cbfc chromedriver + 707580\n4   chromedriver                        0x000000010223cdd1 chromedriver + 708049\n5   chromedriver                        0x0000000102281284 chromedriver + 987780\n6   chromedriver                        0x000000010225f8ed chromedriver + 850157\n7   chromedriver                        0x000000010227e796 chromedriver + 976790\n8   chromedriver                        0x000000010225f663 chromedriver + 849507\n9   chromedriver                        0x000000010222f1cf chromedriver + 651727\n10  chromedriver                        0x00000001022301ae chromedriver + 655790\n11  chromedriver                        0x00000001025c5380 chromedriver + 4412288\n12  chromedriver                        0x00000001025ca798 chromedriver + 4433816\n13  chromedriver                        0x00000001025a9d71 chromedriver + 4300145\n14  chromedriver                        0x00000001025cb4e6 chromedriver + 4437222\n15  chromedriver                        0x000000010259bd3c chromedriver + 4242748\n16  chromedriver                        0x00000001025eb208 chromedriver + 4567560\n17  chromedriver                        0x00000001025eb3be chromedriver + 4567998\n18  chromedriver                        0x00000001025fc603 chromedriver + 4638211\n19  libsystem_pthread.dylib             0x00007ff804ce64f4 _pthread_start + 125\n20  libsystem_pthread.dylib             0x00007ff804ce200f thread_start + 15\n",
     "output_type": "error",
     "traceback": [
      "\u001b[0;31m---------------------------------------------------------------------------\u001b[0m",
      "\u001b[0;31mTimeoutException\u001b[0m                          Traceback (most recent call last)",
      "Cell \u001b[0;32mIn[58], line 27\u001b[0m\n\u001b[1;32m     23\u001b[0m time\u001b[38;5;241m.\u001b[39msleep(\u001b[38;5;241m1\u001b[39m)\n\u001b[1;32m     25\u001b[0m scroll_page(\u001b[38;5;241m3\u001b[39m)\n\u001b[0;32m---> 27\u001b[0m price, discount, features, title, subtitle, description, characteristics, extras_list, address \u001b[38;5;241m=\u001b[39m \u001b[43mget_detailed_info\u001b[49m\u001b[43m(\u001b[49m\u001b[43m)\u001b[49m\n\u001b[1;32m     28\u001b[0m page_prices\u001b[38;5;241m.\u001b[39mappend(price)\n\u001b[1;32m     29\u001b[0m page_discounts\u001b[38;5;241m.\u001b[39mappend(discount)\n",
      "Cell \u001b[0;32mIn[55], line 47\u001b[0m, in \u001b[0;36mget_detailed_info\u001b[0;34m()\u001b[0m\n\u001b[1;32m     44\u001b[0m characteristics \u001b[38;5;241m=\u001b[39m {name:c \u001b[38;5;28;01mfor\u001b[39;00m name, c \u001b[38;5;129;01min\u001b[39;00m \u001b[38;5;28mzip\u001b[39m(names_list, characteristics_list)}\n\u001b[1;32m     46\u001b[0m \u001b[38;5;66;03m# Extra characteristics\u001b[39;00m\n\u001b[0;32m---> 47\u001b[0m extras \u001b[38;5;241m=\u001b[39m \u001b[43mWebDriverWait\u001b[49m\u001b[43m(\u001b[49m\u001b[43mdriver\u001b[49m\u001b[43m,\u001b[49m\u001b[43m \u001b[49m\u001b[38;5;241;43m10\u001b[39;49m\u001b[43m)\u001b[49m\u001b[38;5;241;43m.\u001b[39;49m\u001b[43muntil\u001b[49m\u001b[43m(\u001b[49m\n\u001b[1;32m     48\u001b[0m \u001b[43m    \u001b[49m\u001b[43mEC\u001b[49m\u001b[38;5;241;43m.\u001b[39;49m\u001b[43mpresence_of_element_located\u001b[49m\u001b[43m(\u001b[49m\u001b[43m(\u001b[49m\u001b[43mBy\u001b[49m\u001b[38;5;241;43m.\u001b[39;49m\u001b[43mXPATH\u001b[49m\u001b[43m,\u001b[49m\u001b[43m \u001b[49m\u001b[38;5;124;43m\"\u001b[39;49m\u001b[38;5;124;43m//ul[@class=\u001b[39;49m\u001b[38;5;124;43m'\u001b[39;49m\u001b[38;5;124;43mre-DetailExtras-list\u001b[39;49m\u001b[38;5;124;43m'\u001b[39;49m\u001b[38;5;124;43m]\u001b[39;49m\u001b[38;5;124;43m\"\u001b[39;49m\u001b[43m)\u001b[49m\u001b[43m)\u001b[49m\n\u001b[1;32m     49\u001b[0m \u001b[43m\u001b[49m\u001b[43m)\u001b[49m\n\u001b[1;32m     50\u001b[0m extras_list \u001b[38;5;241m=\u001b[39m extras\u001b[38;5;241m.\u001b[39mtext\u001b[38;5;241m.\u001b[39msplit(\u001b[38;5;124m\"\u001b[39m\u001b[38;5;130;01m\\n\u001b[39;00m\u001b[38;5;124m\"\u001b[39m)\n\u001b[1;32m     52\u001b[0m \u001b[38;5;66;03m# Address\u001b[39;00m\n\u001b[1;32m     53\u001b[0m \u001b[38;5;66;03m# driver.execute_script(\"arguments[0].scrollIntoView(true);\", extras)\u001b[39;00m\n",
      "File \u001b[0;32m~/Documents/FlatsHousesStudyBCN/flats_env/lib/python3.8/site-packages/selenium/webdriver/support/wait.py:105\u001b[0m, in \u001b[0;36mWebDriverWait.until\u001b[0;34m(self, method, message)\u001b[0m\n\u001b[1;32m    103\u001b[0m     \u001b[38;5;28;01mif\u001b[39;00m time\u001b[38;5;241m.\u001b[39mmonotonic() \u001b[38;5;241m>\u001b[39m end_time:\n\u001b[1;32m    104\u001b[0m         \u001b[38;5;28;01mbreak\u001b[39;00m\n\u001b[0;32m--> 105\u001b[0m \u001b[38;5;28;01mraise\u001b[39;00m TimeoutException(message, screen, stacktrace)\n",
      "\u001b[0;31mTimeoutException\u001b[0m: Message: \nStacktrace:\n0   chromedriver                        0x0000000102605168 chromedriver + 4673896\n1   chromedriver                        0x00000001025fc9c3 chromedriver + 4639171\n2   chromedriver                        0x00000001021f0fdd chromedriver + 397277\n3   chromedriver                        0x000000010223cbfc chromedriver + 707580\n4   chromedriver                        0x000000010223cdd1 chromedriver + 708049\n5   chromedriver                        0x0000000102281284 chromedriver + 987780\n6   chromedriver                        0x000000010225f8ed chromedriver + 850157\n7   chromedriver                        0x000000010227e796 chromedriver + 976790\n8   chromedriver                        0x000000010225f663 chromedriver + 849507\n9   chromedriver                        0x000000010222f1cf chromedriver + 651727\n10  chromedriver                        0x00000001022301ae chromedriver + 655790\n11  chromedriver                        0x00000001025c5380 chromedriver + 4412288\n12  chromedriver                        0x00000001025ca798 chromedriver + 4433816\n13  chromedriver                        0x00000001025a9d71 chromedriver + 4300145\n14  chromedriver                        0x00000001025cb4e6 chromedriver + 4437222\n15  chromedriver                        0x000000010259bd3c chromedriver + 4242748\n16  chromedriver                        0x00000001025eb208 chromedriver + 4567560\n17  chromedriver                        0x00000001025eb3be chromedriver + 4567998\n18  chromedriver                        0x00000001025fc603 chromedriver + 4638211\n19  libsystem_pthread.dylib             0x00007ff804ce64f4 _pthread_start + 125\n20  libsystem_pthread.dylib             0x00007ff804ce200f thread_start + 15\n"
     ]
    }
   ],
   "source": [
    "page_prices = []\n",
    "page_discounts = []\n",
    "page_features = []\n",
    "page_titles = []\n",
    "page_subtitles = []\n",
    "page_descriptions = []\n",
    "page_characteristics = []\n",
    "page_extras = []\n",
    "page_addresses = []\n",
    "\n",
    "\n",
    "for i in tqdm(range(0,30)):\n",
    "    scroll_page(i+6)\n",
    "    \n",
    "    flat_list_page = WebDriverWait(driver, 10).until(\n",
    "        EC.presence_of_all_elements_located((By.XPATH, \"//section[@class='re-SearchResult']//article\"))\n",
    "    )\n",
    "    \n",
    "    flat_list_page[i].click()\n",
    "    # ActionChains(driver).key_down(Keys.COMMAND).click(flat_list_page[i]).key_up(Keys.COMMAND).perform()\n",
    "    # driver.switch_to.window(driver.window_handles[-1])\n",
    "    \n",
    "    time.sleep(1)\n",
    "    \n",
    "    scroll_page(3)\n",
    "\n",
    "    price, discount, features, title, subtitle, description, characteristics, extras_list, address = get_detailed_info()\n",
    "    page_prices.append(price)\n",
    "    page_discounts.append(discount)\n",
    "    page_features.append(features)\n",
    "    page_titles.append(title)\n",
    "    page_subtitles.append(subtitle)\n",
    "    page_descriptions.append(description)\n",
    "    page_characteristics.append(characteristics)\n",
    "    page_extras.append(extras_list)\n",
    "    page_addresses.append(address)\n",
    "    \n",
    "    driver.back()\n",
    "\n",
    "    time.sleep(1)\n",
    "\n",
    "    driver.execute_script(\"window.scrollTo(0, 0);\")\n",
    "\n",
    "    time.sleep(1)\n",
    "    "
   ]
  },
  {
   "cell_type": "code",
   "execution_count": null,
   "id": "ca330ccf-b1f8-41e7-9601-8ce92b50ccbd",
   "metadata": {},
   "outputs": [],
   "source": []
  },
  {
   "cell_type": "code",
   "execution_count": 282,
   "id": "548bc908-d42f-487f-90c7-f771fc3a1ea3",
   "metadata": {},
   "outputs": [],
   "source": [
    "html_txt = driver.page_source\n",
    "soup = BeautifulSoup(html_txt)\n",
    "titles = soup.find_all(\"span\",class_=\"re-CardTitle re-CardTitle--big\")\n",
    "titles_list = [title.getText() for title in titles]\n",
    "agencies = soup.find_all(\"span\",class_=\"re-CardTitle re-CardTitle--big\")\n",
    "agencies_list = [agency.getText() for agency in agencies]\n"
   ]
  },
  {
   "cell_type": "code",
   "execution_count": null,
   "id": "dfba57f8-65f0-4769-ad9c-174c139f5052",
   "metadata": {},
   "outputs": [],
   "source": []
  },
  {
   "cell_type": "code",
   "execution_count": 269,
   "id": "78364e84-64b3-49c6-87a6-84d65b5f43bb",
   "metadata": {},
   "outputs": [
    {
     "data": {
      "text/plain": [
       "'html_txt = driver.page_source\\nsoup = BeautifulSoup(html_txt)\\nprice = soup.find(\"span\", class_=\"re-DetailHeader-price\").getText()\\ntry: discount = soup.find(\"div\", class_=\"re-DetailHeader-reducedPrice\").getText()\\nexcept: discount = 0\\nbasic_features = soup.find_all(\"li\", class_=\"re-DetailHeader-featuresItem\")\\nsoup_features = BeautifulSoup(str(basic_features[0]))\\nsoup_features.find(\"span\", class_=\"\").getText()'"
      ]
     },
     "execution_count": 269,
     "metadata": {},
     "output_type": "execute_result"
    }
   ],
   "source": [
    "\"\"\"html_txt = driver.page_source\n",
    "soup = BeautifulSoup(html_txt)\n",
    "price = soup.find(\"span\", class_=\"re-DetailHeader-price\").getText()\n",
    "try: discount = soup.find(\"div\", class_=\"re-DetailHeader-reducedPrice\").getText()\n",
    "except: discount = 0\n",
    "basic_features = soup.find_all(\"li\", class_=\"re-DetailHeader-featuresItem\")\n",
    "soup_features = BeautifulSoup(str(basic_features[0]))\n",
    "soup_features.find(\"span\", class_=\"\").getText()\"\"\""
   ]
  }
 ],
 "metadata": {
  "kernelspec": {
   "display_name": "Python 3 (ipykernel)",
   "language": "python",
   "name": "python3"
  },
  "language_info": {
   "codemirror_mode": {
    "name": "ipython",
    "version": 3
   },
   "file_extension": ".py",
   "mimetype": "text/x-python",
   "name": "python",
   "nbconvert_exporter": "python",
   "pygments_lexer": "ipython3",
   "version": "3.8.10"
  }
 },
 "nbformat": 4,
 "nbformat_minor": 5
}
