{
 "cells": [
  {
   "cell_type": "code",
   "execution_count": 1,
   "id": "f019e485-f94b-48cb-a058-762964694566",
   "metadata": {},
   "outputs": [],
   "source": [
    "import selenium\n",
    "from selenium import webdriver\n",
    "from selenium.webdriver.support.ui import WebDriverWait\n",
    "from selenium.webdriver.chrome.service import Service\n",
    "import time\n",
    "import os\n",
    "import pandas as pd\n",
    "\n",
    "from bs4 import BeautifulSoup\n",
    "\n",
    "from tqdm import tqdm"
   ]
  },
  {
   "cell_type": "code",
   "execution_count": 2,
   "id": "a0bce11e-274d-4089-a443-b11d0e574648",
   "metadata": {},
   "outputs": [],
   "source": [
    "from selenium.webdriver.common.by import By\n",
    "from selenium.webdriver.support import expected_conditions as EC\n",
    "from selenium.webdriver.common.keys import Keys\n",
    "\n",
    "from fake_useragent import UserAgent"
   ]
  },
  {
   "cell_type": "code",
   "execution_count": 3,
   "id": "21b2e0c3-974a-45d7-8d97-9cb2ff431374",
   "metadata": {},
   "outputs": [],
   "source": [
    "driver_path = '/Users/josep/Documents/chromedriver-mac-x64/chromedriver'"
   ]
  },
  {
   "cell_type": "code",
   "execution_count": 4,
   "id": "28ba6a78-44b5-4091-89bb-d8eb9d614f86",
   "metadata": {},
   "outputs": [],
   "source": [
    "def scroll_page(scrolls_num):\n",
    "    for _ in range(scrolls_num):\n",
    "        driver.find_element(By.TAG_NAME, 'body').send_keys(Keys.PAGE_DOWN)\n",
    "        time.sleep(1)"
   ]
  },
  {
   "cell_type": "code",
   "execution_count": 74,
   "id": "19b25806-1430-45fa-a85d-935979f90ce8",
   "metadata": {},
   "outputs": [],
   "source": [
    "service = Service(executable_path=driver_path)\n",
    "options = webdriver.ChromeOptions()\n",
    "# options.add_argument('--blink-settings=imagesEnabled=false')\n",
    "\n",
    "user_agent = UserAgent()\n",
    "options.add_argument(f'user-agent={user_agent.random}')\n",
    "\n",
    "driver = webdriver.Chrome(service=service, options=options)\n",
    "\n",
    "driver.get(\"https://www.fotocasa.es/\")\n",
    "\n",
    "# Deny cookies button\n",
    "button = WebDriverWait(driver, 10).until(\n",
    "    EC.presence_of_element_located((By.XPATH, \"//button[@id='didomi-notice-disagree-button']\"))\n",
    ")\n",
    "button.click()\n",
    "\n",
    "# Detect and write in placeholder\n",
    "buscador = WebDriverWait(driver, 10).until(\n",
    "    EC.presence_of_element_located((By.XPATH, \"//input[@class='sui-AtomInput-input sui-AtomInput-input-size-m']\"))\n",
    ")\n",
    "buscador.send_keys(\"Barcelona\")\n",
    "\n",
    "# Click Barcelona Capital \n",
    "button_bcn = WebDriverWait(driver, 10).until(\n",
    "    EC.presence_of_element_located((By.XPATH, \"//li[@data-value='Barcelona Capital, Barcelona']\"))\n",
    ")\n",
    "button_bcn.click()\n",
    "\n",
    "time.sleep(3)\n",
    "\n",
    "# scroll_page(30)"
   ]
  },
  {
   "cell_type": "code",
   "execution_count": 75,
   "id": "8720162f-3252-4f78-abfe-a53aa50a493c",
   "metadata": {},
   "outputs": [
    {
     "data": {
      "text/plain": [
       "['https://www.fotocasa.es/es/comprar/vivienda/barcelona-capital/aire-acondicionado-ascensor/181424803/d?from=list',\n",
       " 'https://www.fotocasa.es/es/comprar/vivienda/barcelona-capital/aire-acondicionado-calefaccion-ascensor/181170834/d?from=list']"
      ]
     },
     "execution_count": 75,
     "metadata": {},
     "output_type": "execute_result"
    }
   ],
   "source": [
    "flat_list_page = WebDriverWait(driver, 10).until(\n",
    "    EC.presence_of_all_elements_located((By.XPATH, \"//a[@class='re-CardPackPremium-info-container']\"))\n",
    ")\n",
    "links_list_page = [flat.get_attribute(\"href\") for flat in flat_list_page]\n",
    "\n",
    "driver.quit()\n",
    "\n",
    "links_list_page"
   ]
  }
 ],
 "metadata": {
  "kernelspec": {
   "display_name": "Python 3 (ipykernel)",
   "language": "python",
   "name": "python3"
  },
  "language_info": {
   "codemirror_mode": {
    "name": "ipython",
    "version": 3
   },
   "file_extension": ".py",
   "mimetype": "text/x-python",
   "name": "python",
   "nbconvert_exporter": "python",
   "pygments_lexer": "ipython3",
   "version": "3.8.10"
  }
 },
 "nbformat": 4,
 "nbformat_minor": 5
}
