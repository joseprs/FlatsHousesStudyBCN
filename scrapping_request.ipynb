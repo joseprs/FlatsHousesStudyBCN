{
 "cells": [
  {
   "cell_type": "code",
   "execution_count": 1,
   "id": "b48a4eb6-5e3b-44f9-9b33-9e3416c3be1a",
   "metadata": {},
   "outputs": [],
   "source": [
    "import pandas as pd\n",
    "import time\n",
    "import numpy as np\n",
    "import matplotlib.pyplot as plt\n",
    "import seaborn as sns\n",
    "\n",
    "import requests\n",
    "from tqdm import tqdm"
   ]
  },
  {
   "cell_type": "code",
   "execution_count": 2,
   "id": "43c4854b-4444-4b94-9710-7ab641402834",
   "metadata": {},
   "outputs": [],
   "source": [
    "pd.set_option('display.max_columns', None)"
   ]
  },
  {
   "cell_type": "markdown",
   "id": "65fef952-1388-4841-8074-601e6e79cd55",
   "metadata": {},
   "source": [
    "## Scrapping directly from back-end request"
   ]
  },
  {
   "cell_type": "code",
   "execution_count": 3,
   "id": "bcfc1d08-4bcf-440e-b20a-412a27082655",
   "metadata": {},
   "outputs": [],
   "source": [
    "# Get page information\n",
    "\n",
    "url = \"https://web.gw.fotocasa.es/v2/propertysearch/search?combinedLocationIds=724,9,8,232,376,8019,0,0,0&culture=es-ES&includePurchaseTypeFacets=true&isMap=false&isNewConstructionPromotions=false&latitude=41.3854&longitude=2.17754&pageNumber=2&platformId=1&propertyTypeId=2&sortOrderDesc=true&sortType=scoring&transactionTypeId=1\"\n",
    "#headers = {\n",
    "    #'User-Agent': 'Mozilla/5.0 (Windows NT 10.0; Win64; x64) AppleWebKit/537.36 (KHTML, like Gecko) Chrome/109.0.0.0 Safari/537.36',\n",
    "#}\n",
    "headers = {\n",
    "    'authority': 'www.google.com',\n",
    "    'accept': 'text/html,application/xhtml+xml,application/xml;q=0.9,image/avif,image/webp,image/apng,*/*;q=0.8,application/signed-exchange;v=b3;q=0.7',\n",
    "    'accept-language': 'en-US,en;q=0.9',\n",
    "    'cache-control': 'max-age=0',\n",
    "    'user-agent': 'Mozilla/5.0 (Windows NT 10.0; Win64; x64) AppleWebKit/537.36 (KHTML, like Gecko) Chrome/115.0.0.0 Safari/537.36',\n",
    "    # Add more headers as needed\n",
    "}\n",
    "\n",
    "response = requests.get(url, headers=headers)\n",
    "data = response.json()"
   ]
  },
  {
   "cell_type": "code",
   "execution_count": 4,
   "id": "1201e78d-8b24-42ae-8fea-ad36ecef9705",
   "metadata": {},
   "outputs": [
    {
     "data": {
      "text/plain": [
       "30"
      ]
     },
     "execution_count": 4,
     "metadata": {},
     "output_type": "execute_result"
    }
   ],
   "source": [
    "page_ids = [data[\"realEstates\"][i][\"id\"] for i in range(0,len(data[\"realEstates\"]))]\n",
    "len(page_ids)"
   ]
  },
  {
   "cell_type": "code",
   "execution_count": 15,
   "id": "356013a9-b430-4d0a-939f-e2d57e96a705",
   "metadata": {},
   "outputs": [
    {
     "data": {
      "text/plain": [
       "<Response [200]>"
      ]
     },
     "execution_count": 15,
     "metadata": {},
     "output_type": "execute_result"
    }
   ],
   "source": [
    "# Get specific flat information given flat id\n",
    "url = f\"https://web.gw.fotocasa.es/v2/propertysearch/property?culture=es-ES&locale=es-ES&transactionType=1&periodicityId=0&id={page_ids[12]}\"\n",
    "response = requests.get(url, headers=headers)\n",
    "# data = response.json()\n",
    "response"
   ]
  },
  {
   "cell_type": "code",
   "execution_count": 6,
   "id": "2d30bb19-1f66-4097-938e-a43c9392aef9",
   "metadata": {},
   "outputs": [],
   "source": [
    "def get_num_multi_dict(multi_data):\n",
    "    num_multi = {}\n",
    "    for multi in multi_data:\n",
    "        try: num_multi[f'multimedia_type_{multi[\"typeId\"]}'] += 1\n",
    "        except: num_multi[f'multimedia_type_{multi[\"typeId\"]}'] = 1\n",
    "    return num_multi\n"
   ]
  },
  {
   "cell_type": "code",
   "execution_count": 16,
   "id": "937258b8-26de-46dc-944a-739bc9835e52",
   "metadata": {},
   "outputs": [
    {
     "name": "stderr",
     "output_type": "stream",
     "text": [
      "  2%|▉                                           | 2/90 [00:52<36:00, 24.55s/it]"
     ]
    },
    {
     "name": "stdout",
     "output_type": "stream",
     "text": [
      "Error in request for ID 181847496 and I 411. Status code: 403\n"
     ]
    },
    {
     "name": "stderr",
     "output_type": "stream",
     "text": [
      "  3%|█▍                                          | 3/90 [00:52<19:37, 13.54s/it]"
     ]
    },
    {
     "name": "stdout",
     "output_type": "stream",
     "text": [
      "Error in request for ID 181248604 and I 412. Status code: 403\n"
     ]
    },
    {
     "name": "stderr",
     "output_type": "stream",
     "text": [
      "  4%|█▉                                          | 4/90 [00:53<12:00,  8.38s/it]"
     ]
    },
    {
     "name": "stdout",
     "output_type": "stream",
     "text": [
      "Error in request for ID 181248604 and I 413. Status code: 403\n"
     ]
    },
    {
     "name": "stderr",
     "output_type": "stream",
     "text": [
      "  6%|██▍                                         | 5/90 [00:53<07:49,  5.52s/it]"
     ]
    },
    {
     "name": "stdout",
     "output_type": "stream",
     "text": [
      "Error in request for ID 181248604 and I 414. Status code: 403\n"
     ]
    },
    {
     "name": "stderr",
     "output_type": "stream",
     "text": [
      "  7%|██▉                                         | 6/90 [00:54<05:18,  3.79s/it]"
     ]
    },
    {
     "name": "stdout",
     "output_type": "stream",
     "text": [
      "Error in request for ID 181248604 and I 415. Status code: 403\n"
     ]
    },
    {
     "name": "stderr",
     "output_type": "stream",
     "text": [
      "  8%|███▍                                        | 7/90 [00:54<03:43,  2.69s/it]"
     ]
    },
    {
     "name": "stdout",
     "output_type": "stream",
     "text": [
      "Error in request for ID 181248604 and I 416. Status code: 403\n"
     ]
    },
    {
     "name": "stderr",
     "output_type": "stream",
     "text": [
      "  9%|███▉                                        | 8/90 [00:55<02:42,  1.98s/it]"
     ]
    },
    {
     "name": "stdout",
     "output_type": "stream",
     "text": [
      "Error in request for ID 181248604 and I 417. Status code: 403\n"
     ]
    },
    {
     "name": "stderr",
     "output_type": "stream",
     "text": [
      " 10%|████▍                                       | 9/90 [00:55<02:00,  1.49s/it]"
     ]
    },
    {
     "name": "stdout",
     "output_type": "stream",
     "text": [
      "Error in request for ID 181248604 and I 418. Status code: 403\n"
     ]
    },
    {
     "name": "stderr",
     "output_type": "stream",
     "text": [
      " 11%|████▊                                      | 10/90 [00:55<01:32,  1.15s/it]"
     ]
    },
    {
     "name": "stdout",
     "output_type": "stream",
     "text": [
      "Error in request for ID 181248604 and I 419. Status code: 403\n"
     ]
    },
    {
     "name": "stderr",
     "output_type": "stream",
     "text": [
      " 12%|█████▎                                     | 11/90 [00:56<01:14,  1.06it/s]"
     ]
    },
    {
     "name": "stdout",
     "output_type": "stream",
     "text": [
      "Error in request for ID 181248604 and I 420. Status code: 403\n"
     ]
    },
    {
     "name": "stderr",
     "output_type": "stream",
     "text": [
      " 13%|█████▋                                     | 12/90 [00:56<01:03,  1.23it/s]"
     ]
    },
    {
     "name": "stdout",
     "output_type": "stream",
     "text": [
      "Error in request for ID 181248604 and I 421. Status code: 403\n"
     ]
    },
    {
     "name": "stderr",
     "output_type": "stream",
     "text": [
      " 14%|██████▏                                    | 13/90 [00:57<00:53,  1.43it/s]"
     ]
    },
    {
     "name": "stdout",
     "output_type": "stream",
     "text": [
      "Error in request for ID 181248604 and I 422. Status code: 403\n"
     ]
    },
    {
     "name": "stderr",
     "output_type": "stream",
     "text": [
      " 16%|██████▋                                    | 14/90 [00:57<00:47,  1.59it/s]"
     ]
    },
    {
     "name": "stdout",
     "output_type": "stream",
     "text": [
      "Error in request for ID 181248604 and I 423. Status code: 403\n"
     ]
    },
    {
     "name": "stderr",
     "output_type": "stream",
     "text": [
      " 17%|███████▏                                   | 15/90 [00:58<00:42,  1.77it/s]"
     ]
    },
    {
     "name": "stdout",
     "output_type": "stream",
     "text": [
      "Error in request for ID 181248604 and I 424. Status code: 403\n"
     ]
    },
    {
     "name": "stderr",
     "output_type": "stream",
     "text": [
      " 18%|███████▋                                   | 16/90 [00:58<00:38,  1.93it/s]"
     ]
    },
    {
     "name": "stdout",
     "output_type": "stream",
     "text": [
      "Error in request for ID 181248604 and I 425. Status code: 403\n"
     ]
    },
    {
     "name": "stderr",
     "output_type": "stream",
     "text": [
      " 19%|████████                                   | 17/90 [00:59<00:44,  1.64it/s]"
     ]
    },
    {
     "name": "stdout",
     "output_type": "stream",
     "text": [
      "Error in request for ID 181248604 and I 426. Status code: 403\n"
     ]
    },
    {
     "name": "stderr",
     "output_type": "stream",
     "text": [
      " 20%|████████▌                                  | 18/90 [00:59<00:40,  1.80it/s]"
     ]
    },
    {
     "name": "stdout",
     "output_type": "stream",
     "text": [
      "Error in request for ID 181248604 and I 427. Status code: 403\n"
     ]
    },
    {
     "name": "stderr",
     "output_type": "stream",
     "text": [
      " 21%|█████████                                  | 19/90 [01:00<00:36,  1.93it/s]"
     ]
    },
    {
     "name": "stdout",
     "output_type": "stream",
     "text": [
      "Error in request for ID 181248604 and I 428. Status code: 403\n"
     ]
    },
    {
     "name": "stderr",
     "output_type": "stream",
     "text": [
      " 22%|█████████▌                                 | 20/90 [01:00<00:34,  2.03it/s]"
     ]
    },
    {
     "name": "stdout",
     "output_type": "stream",
     "text": [
      "Error in request for ID 181248604 and I 429. Status code: 403\n"
     ]
    },
    {
     "name": "stderr",
     "output_type": "stream",
     "text": [
      " 23%|██████████                                 | 21/90 [01:01<00:33,  2.09it/s]"
     ]
    },
    {
     "name": "stdout",
     "output_type": "stream",
     "text": [
      "Error in request for ID 181248604 and I 430. Status code: 403\n"
     ]
    },
    {
     "name": "stderr",
     "output_type": "stream",
     "text": [
      " 24%|██████████▌                                | 22/90 [01:01<00:31,  2.16it/s]"
     ]
    },
    {
     "name": "stdout",
     "output_type": "stream",
     "text": [
      "Error in request for ID 181248604 and I 431. Status code: 403\n"
     ]
    },
    {
     "name": "stderr",
     "output_type": "stream",
     "text": [
      " 26%|██████████▉                                | 23/90 [01:02<00:31,  2.14it/s]"
     ]
    },
    {
     "name": "stdout",
     "output_type": "stream",
     "text": [
      "Error in request for ID 181248604 and I 432. Status code: 403\n"
     ]
    },
    {
     "name": "stderr",
     "output_type": "stream",
     "text": [
      " 27%|███████████▍                               | 24/90 [01:02<00:29,  2.21it/s]"
     ]
    },
    {
     "name": "stdout",
     "output_type": "stream",
     "text": [
      "Error in request for ID 181248604 and I 433. Status code: 403\n"
     ]
    },
    {
     "name": "stderr",
     "output_type": "stream",
     "text": [
      " 28%|███████████▉                               | 25/90 [01:02<00:28,  2.24it/s]"
     ]
    },
    {
     "name": "stdout",
     "output_type": "stream",
     "text": [
      "Error in request for ID 181248604 and I 434. Status code: 403\n"
     ]
    },
    {
     "name": "stderr",
     "output_type": "stream",
     "text": [
      " 29%|████████████▍                              | 26/90 [01:03<00:28,  2.24it/s]"
     ]
    },
    {
     "name": "stdout",
     "output_type": "stream",
     "text": [
      "Error in request for ID 181248604 and I 435. Status code: 403\n"
     ]
    },
    {
     "name": "stderr",
     "output_type": "stream",
     "text": [
      " 30%|████████████▉                              | 27/90 [01:03<00:27,  2.27it/s]"
     ]
    },
    {
     "name": "stdout",
     "output_type": "stream",
     "text": [
      "Error in request for ID 181248604 and I 436. Status code: 403\n"
     ]
    },
    {
     "name": "stderr",
     "output_type": "stream",
     "text": [
      " 31%|█████████████▍                             | 28/90 [01:04<00:27,  2.29it/s]"
     ]
    },
    {
     "name": "stdout",
     "output_type": "stream",
     "text": [
      "Error in request for ID 181248604 and I 437. Status code: 403\n"
     ]
    },
    {
     "name": "stderr",
     "output_type": "stream",
     "text": [
      " 32%|█████████████▊                             | 29/90 [01:04<00:27,  2.26it/s]"
     ]
    },
    {
     "name": "stdout",
     "output_type": "stream",
     "text": [
      "Error in request for ID 181248604 and I 438. Status code: 403\n"
     ]
    },
    {
     "name": "stderr",
     "output_type": "stream",
     "text": [
      " 33%|██████████████▎                            | 30/90 [01:05<00:26,  2.25it/s]"
     ]
    },
    {
     "name": "stdout",
     "output_type": "stream",
     "text": [
      "Error in request for ID 181248604 and I 439. Status code: 403\n"
     ]
    },
    {
     "name": "stderr",
     "output_type": "stream",
     "text": [
      " 34%|██████████████▊                            | 31/90 [01:05<00:26,  2.21it/s]"
     ]
    },
    {
     "name": "stdout",
     "output_type": "stream",
     "text": [
      "Error in request for ID 181248604 and I 440. Status code: 403\n"
     ]
    },
    {
     "name": "stderr",
     "output_type": "stream",
     "text": [
      " 36%|███████████████▎                           | 32/90 [01:06<00:26,  2.22it/s]"
     ]
    },
    {
     "name": "stdout",
     "output_type": "stream",
     "text": [
      "Error in request for ID 181248604 and I 441. Status code: 403\n"
     ]
    },
    {
     "name": "stderr",
     "output_type": "stream",
     "text": [
      " 37%|███████████████▊                           | 33/90 [01:06<00:24,  2.30it/s]"
     ]
    },
    {
     "name": "stdout",
     "output_type": "stream",
     "text": [
      "Error in request for ID 181248604 and I 442. Status code: 403\n"
     ]
    },
    {
     "name": "stderr",
     "output_type": "stream",
     "text": [
      " 38%|████████████████▏                          | 34/90 [01:06<00:25,  2.19it/s]"
     ]
    },
    {
     "name": "stdout",
     "output_type": "stream",
     "text": [
      "Error in request for ID 181248604 and I 443. Status code: 403\n"
     ]
    },
    {
     "name": "stderr",
     "output_type": "stream",
     "text": [
      " 39%|████████████████▋                          | 35/90 [01:07<00:24,  2.26it/s]"
     ]
    },
    {
     "name": "stdout",
     "output_type": "stream",
     "text": [
      "Error in request for ID 181248604 and I 444. Status code: 403\n"
     ]
    },
    {
     "name": "stderr",
     "output_type": "stream",
     "text": [
      " 40%|█████████████████▏                         | 36/90 [01:07<00:24,  2.24it/s]"
     ]
    },
    {
     "name": "stdout",
     "output_type": "stream",
     "text": [
      "Error in request for ID 181248604 and I 445. Status code: 403\n"
     ]
    },
    {
     "name": "stderr",
     "output_type": "stream",
     "text": [
      " 41%|█████████████████▋                         | 37/90 [01:08<00:23,  2.23it/s]"
     ]
    },
    {
     "name": "stdout",
     "output_type": "stream",
     "text": [
      "Error in request for ID 181248604 and I 446. Status code: 403\n"
     ]
    },
    {
     "name": "stderr",
     "output_type": "stream",
     "text": [
      " 42%|██████████████████▏                        | 38/90 [01:08<00:22,  2.28it/s]"
     ]
    },
    {
     "name": "stdout",
     "output_type": "stream",
     "text": [
      "Error in request for ID 181248604 and I 447. Status code: 403\n"
     ]
    },
    {
     "name": "stderr",
     "output_type": "stream",
     "text": [
      " 43%|██████████████████▋                        | 39/90 [01:09<00:22,  2.31it/s]"
     ]
    },
    {
     "name": "stdout",
     "output_type": "stream",
     "text": [
      "Error in request for ID 181248604 and I 448. Status code: 403\n"
     ]
    },
    {
     "name": "stderr",
     "output_type": "stream",
     "text": [
      " 44%|███████████████████                        | 40/90 [01:09<00:21,  2.35it/s]"
     ]
    },
    {
     "name": "stdout",
     "output_type": "stream",
     "text": [
      "Error in request for ID 181248604 and I 449. Status code: 403\n"
     ]
    },
    {
     "name": "stderr",
     "output_type": "stream",
     "text": [
      " 46%|███████████████████▌                       | 41/90 [01:09<00:21,  2.31it/s]"
     ]
    },
    {
     "name": "stdout",
     "output_type": "stream",
     "text": [
      "Error in request for ID 181248604 and I 450. Status code: 403\n"
     ]
    },
    {
     "name": "stderr",
     "output_type": "stream",
     "text": [
      " 47%|████████████████████                       | 42/90 [01:10<00:20,  2.30it/s]"
     ]
    },
    {
     "name": "stdout",
     "output_type": "stream",
     "text": [
      "Error in request for ID 181248604 and I 451. Status code: 403\n"
     ]
    },
    {
     "name": "stderr",
     "output_type": "stream",
     "text": [
      " 48%|████████████████████▌                      | 43/90 [01:10<00:20,  2.26it/s]"
     ]
    },
    {
     "name": "stdout",
     "output_type": "stream",
     "text": [
      "Error in request for ID 181248604 and I 452. Status code: 403\n"
     ]
    },
    {
     "name": "stderr",
     "output_type": "stream",
     "text": [
      " 49%|█████████████████████                      | 44/90 [01:11<00:20,  2.25it/s]"
     ]
    },
    {
     "name": "stdout",
     "output_type": "stream",
     "text": [
      "Error in request for ID 181248604 and I 453. Status code: 403\n"
     ]
    },
    {
     "name": "stderr",
     "output_type": "stream",
     "text": [
      " 50%|█████████████████████▌                     | 45/90 [01:11<00:20,  2.18it/s]"
     ]
    },
    {
     "name": "stdout",
     "output_type": "stream",
     "text": [
      "Error in request for ID 181248604 and I 454. Status code: 403\n"
     ]
    },
    {
     "name": "stderr",
     "output_type": "stream",
     "text": [
      " 51%|█████████████████████▉                     | 46/90 [01:12<00:20,  2.16it/s]"
     ]
    },
    {
     "name": "stdout",
     "output_type": "stream",
     "text": [
      "Error in request for ID 181248604 and I 455. Status code: 403\n"
     ]
    },
    {
     "name": "stderr",
     "output_type": "stream",
     "text": [
      " 52%|██████████████████████▍                    | 47/90 [01:12<00:19,  2.20it/s]"
     ]
    },
    {
     "name": "stdout",
     "output_type": "stream",
     "text": [
      "Error in request for ID 181248604 and I 456. Status code: 403\n"
     ]
    },
    {
     "name": "stderr",
     "output_type": "stream",
     "text": [
      " 53%|██████████████████████▉                    | 48/90 [01:13<00:18,  2.26it/s]"
     ]
    },
    {
     "name": "stdout",
     "output_type": "stream",
     "text": [
      "Error in request for ID 181248604 and I 457. Status code: 403\n"
     ]
    },
    {
     "name": "stderr",
     "output_type": "stream",
     "text": [
      " 54%|███████████████████████▍                   | 49/90 [01:13<00:17,  2.30it/s]"
     ]
    },
    {
     "name": "stdout",
     "output_type": "stream",
     "text": [
      "Error in request for ID 181248604 and I 458. Status code: 403\n"
     ]
    },
    {
     "name": "stderr",
     "output_type": "stream",
     "text": [
      " 56%|███████████████████████▉                   | 50/90 [01:13<00:17,  2.32it/s]"
     ]
    },
    {
     "name": "stdout",
     "output_type": "stream",
     "text": [
      "Error in request for ID 181248604 and I 459. Status code: 403\n"
     ]
    },
    {
     "name": "stderr",
     "output_type": "stream",
     "text": [
      " 57%|████████████████████████▎                  | 51/90 [01:14<00:17,  2.27it/s]"
     ]
    },
    {
     "name": "stdout",
     "output_type": "stream",
     "text": [
      "Error in request for ID 181248604 and I 460. Status code: 403\n"
     ]
    },
    {
     "name": "stderr",
     "output_type": "stream",
     "text": [
      " 58%|████████████████████████▊                  | 52/90 [01:14<00:16,  2.29it/s]"
     ]
    },
    {
     "name": "stdout",
     "output_type": "stream",
     "text": [
      "Error in request for ID 181248604 and I 461. Status code: 403\n"
     ]
    },
    {
     "name": "stderr",
     "output_type": "stream",
     "text": [
      " 59%|█████████████████████████▎                 | 53/90 [01:15<00:15,  2.35it/s]"
     ]
    },
    {
     "name": "stdout",
     "output_type": "stream",
     "text": [
      "Error in request for ID 181248604 and I 462. Status code: 403\n"
     ]
    },
    {
     "name": "stderr",
     "output_type": "stream",
     "text": [
      " 60%|█████████████████████████▊                 | 54/90 [01:15<00:15,  2.34it/s]"
     ]
    },
    {
     "name": "stdout",
     "output_type": "stream",
     "text": [
      "Error in request for ID 181248604 and I 463. Status code: 403\n"
     ]
    },
    {
     "name": "stderr",
     "output_type": "stream",
     "text": [
      " 61%|██████████████████████████▎                | 55/90 [01:16<00:14,  2.35it/s]"
     ]
    },
    {
     "name": "stdout",
     "output_type": "stream",
     "text": [
      "Error in request for ID 181248604 and I 464. Status code: 403\n"
     ]
    },
    {
     "name": "stderr",
     "output_type": "stream",
     "text": [
      " 62%|██████████████████████████▊                | 56/90 [01:16<00:14,  2.30it/s]"
     ]
    },
    {
     "name": "stdout",
     "output_type": "stream",
     "text": [
      "Error in request for ID 181248604 and I 465. Status code: 403\n"
     ]
    },
    {
     "name": "stderr",
     "output_type": "stream",
     "text": [
      " 63%|███████████████████████████▏               | 57/90 [01:16<00:14,  2.35it/s]"
     ]
    },
    {
     "name": "stdout",
     "output_type": "stream",
     "text": [
      "Error in request for ID 181248604 and I 466. Status code: 403\n"
     ]
    },
    {
     "name": "stderr",
     "output_type": "stream",
     "text": [
      " 64%|███████████████████████████▋               | 58/90 [01:17<00:13,  2.33it/s]"
     ]
    },
    {
     "name": "stdout",
     "output_type": "stream",
     "text": [
      "Error in request for ID 181248604 and I 467. Status code: 403\n"
     ]
    },
    {
     "name": "stderr",
     "output_type": "stream",
     "text": [
      " 66%|████████████████████████████▏              | 59/90 [01:17<00:13,  2.22it/s]"
     ]
    },
    {
     "name": "stdout",
     "output_type": "stream",
     "text": [
      "Error in request for ID 181248604 and I 468. Status code: 403\n"
     ]
    },
    {
     "name": "stderr",
     "output_type": "stream",
     "text": [
      " 67%|████████████████████████████▋              | 60/90 [01:18<00:13,  2.23it/s]"
     ]
    },
    {
     "name": "stdout",
     "output_type": "stream",
     "text": [
      "Error in request for ID 181248604 and I 469. Status code: 403\n"
     ]
    },
    {
     "name": "stderr",
     "output_type": "stream",
     "text": [
      " 68%|█████████████████████████████▏             | 61/90 [01:18<00:13,  2.23it/s]"
     ]
    },
    {
     "name": "stdout",
     "output_type": "stream",
     "text": [
      "Error in request for ID 181248604 and I 470. Status code: 403\n"
     ]
    },
    {
     "name": "stderr",
     "output_type": "stream",
     "text": [
      " 69%|█████████████████████████████▌             | 62/90 [01:19<00:12,  2.28it/s]"
     ]
    },
    {
     "name": "stdout",
     "output_type": "stream",
     "text": [
      "Error in request for ID 181248604 and I 471. Status code: 403\n"
     ]
    },
    {
     "name": "stderr",
     "output_type": "stream",
     "text": [
      " 70%|██████████████████████████████             | 63/90 [01:19<00:12,  2.24it/s]"
     ]
    },
    {
     "name": "stdout",
     "output_type": "stream",
     "text": [
      "Error in request for ID 181248604 and I 472. Status code: 403\n"
     ]
    },
    {
     "name": "stderr",
     "output_type": "stream",
     "text": [
      " 71%|██████████████████████████████▌            | 64/90 [01:20<00:11,  2.30it/s]"
     ]
    },
    {
     "name": "stdout",
     "output_type": "stream",
     "text": [
      "Error in request for ID 181248604 and I 473. Status code: 403\n"
     ]
    },
    {
     "name": "stderr",
     "output_type": "stream",
     "text": [
      " 72%|███████████████████████████████            | 65/90 [01:20<00:11,  2.27it/s]"
     ]
    },
    {
     "name": "stdout",
     "output_type": "stream",
     "text": [
      "Error in request for ID 181248604 and I 474. Status code: 403\n"
     ]
    },
    {
     "name": "stderr",
     "output_type": "stream",
     "text": [
      " 73%|███████████████████████████████▌           | 66/90 [01:20<00:10,  2.25it/s]"
     ]
    },
    {
     "name": "stdout",
     "output_type": "stream",
     "text": [
      "Error in request for ID 181248604 and I 475. Status code: 403\n"
     ]
    },
    {
     "name": "stderr",
     "output_type": "stream",
     "text": [
      " 74%|████████████████████████████████           | 67/90 [01:21<00:10,  2.25it/s]"
     ]
    },
    {
     "name": "stdout",
     "output_type": "stream",
     "text": [
      "Error in request for ID 181248604 and I 476. Status code: 403\n"
     ]
    },
    {
     "name": "stderr",
     "output_type": "stream",
     "text": [
      " 76%|████████████████████████████████▍          | 68/90 [01:21<00:09,  2.26it/s]"
     ]
    },
    {
     "name": "stdout",
     "output_type": "stream",
     "text": [
      "Error in request for ID 181248604 and I 477. Status code: 403\n"
     ]
    },
    {
     "name": "stderr",
     "output_type": "stream",
     "text": [
      " 77%|████████████████████████████████▉          | 69/90 [01:22<00:09,  2.25it/s]"
     ]
    },
    {
     "name": "stdout",
     "output_type": "stream",
     "text": [
      "Error in request for ID 181248604 and I 478. Status code: 403\n"
     ]
    },
    {
     "name": "stderr",
     "output_type": "stream",
     "text": [
      " 78%|█████████████████████████████████▍         | 70/90 [01:22<00:08,  2.29it/s]"
     ]
    },
    {
     "name": "stdout",
     "output_type": "stream",
     "text": [
      "Error in request for ID 181248604 and I 479. Status code: 403\n"
     ]
    },
    {
     "name": "stderr",
     "output_type": "stream",
     "text": [
      " 79%|█████████████████████████████████▉         | 71/90 [01:23<00:08,  2.28it/s]"
     ]
    },
    {
     "name": "stdout",
     "output_type": "stream",
     "text": [
      "Error in request for ID 181248604 and I 480. Status code: 403\n"
     ]
    },
    {
     "name": "stderr",
     "output_type": "stream",
     "text": [
      " 80%|██████████████████████████████████▍        | 72/90 [01:23<00:07,  2.31it/s]"
     ]
    },
    {
     "name": "stdout",
     "output_type": "stream",
     "text": [
      "Error in request for ID 181248604 and I 481. Status code: 403\n"
     ]
    },
    {
     "name": "stderr",
     "output_type": "stream",
     "text": [
      " 81%|██████████████████████████████████▉        | 73/90 [01:23<00:07,  2.35it/s]"
     ]
    },
    {
     "name": "stdout",
     "output_type": "stream",
     "text": [
      "Error in request for ID 181248604 and I 482. Status code: 403\n"
     ]
    },
    {
     "name": "stderr",
     "output_type": "stream",
     "text": [
      " 82%|███████████████████████████████████▎       | 74/90 [01:24<00:06,  2.36it/s]"
     ]
    },
    {
     "name": "stdout",
     "output_type": "stream",
     "text": [
      "Error in request for ID 181248604 and I 483. Status code: 403\n"
     ]
    },
    {
     "name": "stderr",
     "output_type": "stream",
     "text": [
      " 83%|███████████████████████████████████▊       | 75/90 [01:24<00:06,  2.25it/s]"
     ]
    },
    {
     "name": "stdout",
     "output_type": "stream",
     "text": [
      "Error in request for ID 181248604 and I 484. Status code: 403\n"
     ]
    },
    {
     "name": "stderr",
     "output_type": "stream",
     "text": [
      " 86%|████████████████████████████████████▊      | 77/90 [01:25<00:04,  2.82it/s]"
     ]
    },
    {
     "name": "stdout",
     "output_type": "stream",
     "text": [
      "Error in request for ID 181248604 and I 485. Status code: 403\n",
      "Error trying to get response or generating json in page 486\n"
     ]
    },
    {
     "name": "stderr",
     "output_type": "stream",
     "text": [
      " 88%|█████████████████████████████████████▋     | 79/90 [01:25<00:02,  3.84it/s]"
     ]
    },
    {
     "name": "stdout",
     "output_type": "stream",
     "text": [
      "Error trying to get response or generating json in page 487\n",
      "Error trying to get response or generating json in page 488\n"
     ]
    },
    {
     "name": "stderr",
     "output_type": "stream",
     "text": [
      " 90%|██████████████████████████████████████▋    | 81/90 [01:26<00:01,  4.97it/s]"
     ]
    },
    {
     "name": "stdout",
     "output_type": "stream",
     "text": [
      "Error trying to get response or generating json in page 489\n",
      "Error trying to get response or generating json in page 490\n"
     ]
    },
    {
     "name": "stderr",
     "output_type": "stream",
     "text": [
      " 92%|███████████████████████████████████████▋   | 83/90 [01:26<00:01,  5.59it/s]"
     ]
    },
    {
     "name": "stdout",
     "output_type": "stream",
     "text": [
      "Error trying to get response or generating json in page 491\n",
      "Error trying to get response or generating json in page 492\n"
     ]
    },
    {
     "name": "stderr",
     "output_type": "stream",
     "text": [
      " 94%|████████████████████████████████████████▌  | 85/90 [01:26<00:00,  6.26it/s]"
     ]
    },
    {
     "name": "stdout",
     "output_type": "stream",
     "text": [
      "Error trying to get response or generating json in page 493\n",
      "Error trying to get response or generating json in page 494\n"
     ]
    },
    {
     "name": "stderr",
     "output_type": "stream",
     "text": [
      " 97%|█████████████████████████████████████████▌ | 87/90 [01:27<00:00,  6.29it/s]"
     ]
    },
    {
     "name": "stdout",
     "output_type": "stream",
     "text": [
      "Error trying to get response or generating json in page 495\n",
      "Error trying to get response or generating json in page 496\n"
     ]
    },
    {
     "name": "stderr",
     "output_type": "stream",
     "text": [
      " 99%|██████████████████████████████████████████▌| 89/90 [01:27<00:00,  6.29it/s]"
     ]
    },
    {
     "name": "stdout",
     "output_type": "stream",
     "text": [
      "Error trying to get response or generating json in page 497\n",
      "Error trying to get response or generating json in page 498\n"
     ]
    },
    {
     "name": "stderr",
     "output_type": "stream",
     "text": [
      "100%|███████████████████████████████████████████| 90/90 [01:27<00:00,  1.03it/s]"
     ]
    },
    {
     "name": "stdout",
     "output_type": "stream",
     "text": [
      "Error trying to get response or generating json in page 499\n"
     ]
    },
    {
     "name": "stderr",
     "output_type": "stream",
     "text": [
      "\n"
     ]
    }
   ],
   "source": [
    "id_list = []\n",
    "type_list = []\n",
    "subtype_list = []\n",
    "is_external_contract_list = []\n",
    "is_invalid_list = []\n",
    "is_new_list = []\n",
    "advertiser_name_list = []\n",
    "num_multi_list = []\n",
    "descriptions_esp_list = []\n",
    "descriptions_eng_list = []\n",
    "features_list = []\n",
    "features2_list = [] \n",
    "features3_list = [] \n",
    "num_transacions_list = []\n",
    "trans_type_id_list = []\n",
    "value_list = []\n",
    "reduced_list = []\n",
    "periodicity_id_list = []\n",
    "\n",
    "ubication_list = []\n",
    "location_list = []\n",
    "coordinates_list = []\n",
    "zipcode_list = []\n",
    "highlight_list = []\n",
    "date_list = []\n",
    "\n",
    "energy_letter_list = []\n",
    "energy_value_list = []\n",
    "environment_letter_list = []\n",
    "environment_value_list = []\n",
    "\n",
    "## headers = {'User-Agent': 'Mozilla/5.0 (Windows NT 10.0; Win64; x64) AppleWebKit/537.36 (KHTML, like Gecko) Chrome/109.0.0.0 Safari/537.36',}\n",
    "headers = {\n",
    "    'authority': 'www.google.com',\n",
    "    'accept': 'text/html,application/xhtml+xml,application/xml;q=0.9,image/avif,image/webp,image/apng,*/*;q=0.8,application/signed-exchange;v=b3;q=0.7',\n",
    "    'accept-language': 'en-US,en;q-=0.9',\n",
    "    'cache-control': 'max-age=0',\n",
    "    'user-agent': 'Mozilla/5.0 (Windows NT 10.0; Win64; x64) AppleWebKit/537.36 (KHTML, like Gecko) Chrome/115.0.0.0 Safari/537.36',\n",
    "    }\n",
    "\n",
    "init_page = 410\n",
    "final_page = 500\n",
    "\n",
    "for i in tqdm(range(init_page, final_page)):\n",
    "    \n",
    "    url = f\"https://web.gw.fotocasa.es/v2/propertysearch/search?combinedLocationIds=724,9,8,232,376,8019,0,0,0&culture=es-ES&includePurchaseTypeFacets=true&isMap=false&isNewConstructionPromotions=false&latitude=41.3854&longitude=2.17754&pageNumber={i}&platformId=1&propertyTypeId=2&sortOrderDesc=true&sortType=scoring&transactionTypeId=1\"\n",
    "    \n",
    "    try:\n",
    "        response = requests.get(url, headers=headers)\n",
    "        data_ids = response.json()\n",
    "        page_ids = [data_ids[\"realEstates\"][i][\"id\"] for i in range(0,len(data_ids[\"realEstates\"]))]\n",
    "    except:\n",
    "        print(f\"Error trying to get response or generating json in page {i}\")\n",
    "        continue\n",
    "        \n",
    "    for id in page_ids:\n",
    "        url = f\"https://web.gw.fotocasa.es/v2/propertysearch/property?culture=es-ES&locale=es-ES&transactionType=1&periodicityId=0&id={id}\"\n",
    "        try:\n",
    "            response = requests.get(url, headers=headers)\n",
    "        except:\n",
    "            print(f\"Error trying to reach the response by requests.get(url) in ID {id}\")\n",
    "\n",
    "        if response.status_code == 403:\n",
    "            print(f\"Error in request for ID {id} and I {i}. Status code: {response.status_code}\")\n",
    "            break\n",
    "        \n",
    "        try:\n",
    "            data = response.json()\n",
    "        except Exception as e:\n",
    "            print(f\"Error parsing JSON for ID {id}: {e}\")\n",
    "            continue\n",
    "        \n",
    "        try:\n",
    "            # Basic Data\n",
    "            id_val = data[\"id\"]\n",
    "            type_val = data[\"typeId\"]\n",
    "            subtype_val = data[\"subtypeId\"]\n",
    "            is_external_contract_val = data[\"isExternalContact\"]\n",
    "            is_invalid_val = data[\"isInvalid\"]\n",
    "            is_new_val = data[\"isNew\"]\n",
    "            advertiser_name_val = data[\"advertiser\"][\"name\"]\n",
    "            num_multi_val = get_num_multi_dict(data[\"multimedias\"])\n",
    "            descriptions_esp_val = data[\"descriptions\"][\"es-ES\"]\n",
    "        \n",
    "            # Features and Characteristics\n",
    "            features_dict = {list(data[\"features\"][i].keys())[0]:list(data[\"features\"][i].values())[0] for i in range(0,len(data[\"features\"]))}\n",
    "            # features_list.append(features_dict)\n",
    "            features2_dict = {data[\"featuresList\"][i][\"label\"]:data[\"featuresList\"][i][\"value\"] for i in range(0,len(data[\"featuresList\"]))}\n",
    "            # features2_list.append(features2_dict)\n",
    "            features3_dict = {list(data[\"otherFeatures\"][i].keys())[0]:list(data[\"otherFeatures\"][i].values())[0] for i in range(0,len(data[\"otherFeatures\"]))}\n",
    "            features3_swap_dict = {v:k for k,v in features3_dict.items()}\n",
    "            # features3_list.append(features3_swap_dict)\n",
    "        \n",
    "            # Price Data\n",
    "            num_transactions = len(data[\"transactions\"])\n",
    "            trans_type_id_val = data[\"transactions\"][0][\"transactionTypeId\"]\n",
    "            value_val = data[\"transactions\"][0][\"value\"][0]\n",
    "            reduced_val = data[\"transactions\"][0][\"reduced\"]\n",
    "            periodicity_id_val = data[\"transactions\"][0][\"periodicityId\"]\n",
    "            \n",
    "            # Ubication\n",
    "            ubication_val = data[\"address\"][\"ubication\"]\n",
    "            location_val = data[\"address\"][\"location\"]\n",
    "            coordinates_val = data[\"address\"][\"coordinates\"]\n",
    "            zipcode_val = data[\"address\"][\"zipCode\"]\n",
    "        \n",
    "            # Additional data\n",
    "            highlight_val = data[\"highlight\"]\n",
    "            date_val = data[\"date\"]\n",
    "            energy_letter_val = data[\"propertyEnergyCertificate\"][\"energyEfficiencyRatingTypeId\"]\n",
    "            energy_value_val = data[\"propertyEnergyCertificate\"][\"energyEfficiencyValue\"]\n",
    "            environment_letter_val = data[\"propertyEnergyCertificate\"][\"environmentImpactRatingTypeId\"]\n",
    "            environment_value_val = data[\"propertyEnergyCertificate\"][\"environmentImpactValue\"]\n",
    "        \n",
    "        except:\n",
    "            print(\"Error reading features.\")\n",
    "            continue\n",
    "\n",
    "        id_list.append(id_val)\n",
    "        type_list.append(type_val)\n",
    "        subtype_list.append(subtype_val)\n",
    "        is_external_contract_list.append(is_external_contract_val)\n",
    "        is_invalid_list.append(is_invalid_val)\n",
    "        is_new_list.append(is_new_val)\n",
    "        advertiser_name_list.append(advertiser_name_val)\n",
    "        num_multi_list.append(num_multi_val)\n",
    "        descriptions_esp_list.append(descriptions_esp_val)\n",
    "        features_list.append(features_dict)    \n",
    "        features2_list.append(features2_dict)\n",
    "        features3_list.append(features3_swap_dict)\n",
    "        num_transacions_list.append(num_transactions)\n",
    "        trans_type_id_list.append(trans_type_id_val)\n",
    "        value_list.append(value_val)\n",
    "        reduced_list.append(reduced_val)\n",
    "        periodicity_id_list.append(periodicity_id_val)\n",
    "        ubication_list.append(ubication_val)\n",
    "        location_list.append(location_val)\n",
    "        coordinates_list.append(coordinates_val)\n",
    "        zipcode_list.append(zipcode_val)\n",
    "        highlight_list.append(highlight_val)\n",
    "        date_list.append(date_val)\n",
    "        energy_letter_list.append(energy_letter_val)\n",
    "        energy_value_list.append(energy_value_val)\n",
    "        environment_letter_list.append(environment_letter_val)\n",
    "        environment_value_list.append(environment_value_val)\n",
    "        \n",
    "        time.sleep(1)\n"
   ]
  },
  {
   "cell_type": "code",
   "execution_count": 8,
   "id": "969b8291-a6e1-457c-a522-d884a0cdc18a",
   "metadata": {},
   "outputs": [
    {
     "name": "stdout",
     "output_type": "stream",
     "text": [
      "Extracted flats: 74 Expected: 2700 2.740740740740741%\n"
     ]
    }
   ],
   "source": [
    "expected_len = (final_page-init_page)*30\n",
    "print(\"Extracted flats:\", len(value_list), \"Expected:\", expected_len, f\"{(len(value_list)/expected_len)*100}%\")\n"
   ]
  },
  {
   "cell_type": "code",
   "execution_count": 9,
   "id": "e892415c-41f4-454d-b2d9-7b46da9319b7",
   "metadata": {},
   "outputs": [],
   "source": [
    "df_basics = pd.DataFrame({\"id\":id_list, \"type\":type_list, \"subtype\":subtype_list, \"external_contract\":is_external_contract_list, \"invalid\":is_invalid_list, \"new\":is_new_list, \"advertiser\":advertiser_name_list, \"description\":descriptions_esp_list,\n",
    "                   \"transactions\":num_transacions_list, \"transaction_type\":trans_type_id_list, \"value\":value_list, \"reduced\":reduced_list, \"periodicity_id\":periodicity_id_list,\n",
    "                   \"ubication\": ubication_list, \"zipcode\": zipcode_list,\n",
    "                   \"highlight\":highlight_list, \"date\":date_list, \"energy_letter\":energy_letter_list, \"energy_value\":energy_value_list, \"environment_letter\":environment_letter_list, \"environment_value\":environment_value_list})\n"
   ]
  },
  {
   "cell_type": "code",
   "execution_count": 10,
   "id": "8f37312b-c3d3-4d68-829b-27c4f2dc9a77",
   "metadata": {},
   "outputs": [],
   "source": [
    "df_from_dicts = pd.concat([pd.DataFrame(num_multi_list),\n",
    "                           pd.DataFrame(features_list),\n",
    "                           pd.DataFrame(features2_list),\n",
    "                           pd.DataFrame(features3_list),\n",
    "                           pd.DataFrame(location_list),\n",
    "                           pd.DataFrame(coordinates_list),\n",
    "                          ],axis=1)"
   ]
  },
  {
   "cell_type": "code",
   "execution_count": 11,
   "id": "e355eb1b-2848-45e7-b062-7ab3471c6897",
   "metadata": {},
   "outputs": [],
   "source": [
    "df = pd.concat([df_basics, df_from_dicts], axis=1)\n",
    "df.to_csv(f\"data{init_page}_{final_page}.csv\", index=False)"
   ]
  }
 ],
 "metadata": {
  "kernelspec": {
   "display_name": "Python 3 (ipykernel)",
   "language": "python",
   "name": "python3"
  },
  "language_info": {
   "codemirror_mode": {
    "name": "ipython",
    "version": 3
   },
   "file_extension": ".py",
   "mimetype": "text/x-python",
   "name": "python",
   "nbconvert_exporter": "python",
   "pygments_lexer": "ipython3",
   "version": "3.8.10"
  }
 },
 "nbformat": 4,
 "nbformat_minor": 5
}
