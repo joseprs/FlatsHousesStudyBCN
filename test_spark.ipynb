{
 "cells": [
  {
   "cell_type": "code",
   "execution_count": 2,
   "id": "a55efc3a-4af3-472b-b606-b13773bb6648",
   "metadata": {},
   "outputs": [],
   "source": [
    "import pandas as pd\n",
    "import pyspark\n",
    "from pyspark.sql import SparkSession\n",
    "from pyspark.sql.types import StructType, StructField, StringType, IntegerType, FloatType\n",
    "from pyspark.sql.functions import col\n",
    "\n",
    "\n",
    "import os"
   ]
  },
  {
   "cell_type": "code",
   "execution_count": 3,
   "id": "20c01f13-25c9-4939-835e-d21b8eabeb35",
   "metadata": {},
   "outputs": [
    {
     "data": {
      "text/plain": [
       "'/Users/josep/Documents/FlatsHousesStudyBCN'"
      ]
     },
     "execution_count": 3,
     "metadata": {},
     "output_type": "execute_result"
    }
   ],
   "source": [
    "os.getcwd()"
   ]
  },
  {
   "cell_type": "code",
   "execution_count": 4,
   "id": "a46b3ba0-9be8-4eee-9a89-0ff4c8b381d1",
   "metadata": {},
   "outputs": [
    {
     "name": "stderr",
     "output_type": "stream",
     "text": [
      "Setting default log level to \"WARN\".\n",
      "To adjust logging level use sc.setLogLevel(newLevel). For SparkR, use setLogLevel(newLevel).\n",
      "24/03/01 16:32:16 WARN NativeCodeLoader: Unable to load native-hadoop library for your platform... using builtin-java classes where applicable\n"
     ]
    }
   ],
   "source": [
    "spark = SparkSession.builder.appName(\"Practise\").getOrCreate()"
   ]
  },
  {
   "cell_type": "code",
   "execution_count": 5,
   "id": "da8d64ee-d3e4-4e90-9f8a-f8d2a7ce5bb4",
   "metadata": {},
   "outputs": [
    {
     "data": {
      "text/html": [
       "\n",
       "            <div>\n",
       "                <p><b>SparkSession - in-memory</b></p>\n",
       "                \n",
       "        <div>\n",
       "            <p><b>SparkContext</b></p>\n",
       "\n",
       "            <p><a href=\"http://mbp-de-josep.home:4040\">Spark UI</a></p>\n",
       "\n",
       "            <dl>\n",
       "              <dt>Version</dt>\n",
       "                <dd><code>v3.5.1</code></dd>\n",
       "              <dt>Master</dt>\n",
       "                <dd><code>local[*]</code></dd>\n",
       "              <dt>AppName</dt>\n",
       "                <dd><code>Practise</code></dd>\n",
       "            </dl>\n",
       "        </div>\n",
       "        \n",
       "            </div>\n",
       "        "
      ],
      "text/plain": [
       "<pyspark.sql.session.SparkSession at 0x7fdc6c9d8c10>"
      ]
     },
     "execution_count": 5,
     "metadata": {},
     "output_type": "execute_result"
    }
   ],
   "source": [
    "spark"
   ]
  },
  {
   "cell_type": "markdown",
   "id": "db4c266e-ff00-4733-b6b3-7c4f459d03a7",
   "metadata": {},
   "source": [
    "## Basics"
   ]
  },
  {
   "cell_type": "code",
   "execution_count": 6,
   "id": "8f8e86c6-6780-4e2a-a828-d7ca4ae6fc8d",
   "metadata": {},
   "outputs": [
    {
     "name": "stderr",
     "output_type": "stream",
     "text": [
      "                                                                                \r"
     ]
    }
   ],
   "source": [
    "csv_options = {\n",
    "    \"header\": True,               # Si tu archivo CSV tiene encabezados de columna\n",
    "    \"multiLine\": True,            # Permite que los valores del CSV se extiendan en varias líneas\n",
    "    \"escape\": '\"',                # Carácter de escape para delimitar los campos que pueden contener saltos de línea\n",
    "    \"quote\": '\"',                 # Carácter de comillas para delimitar los campos\n",
    "    \"ignoreLeadingWhiteSpace\": True,  # Ignorar espacios en blanco al principio de los valores del CSV\n",
    "    \"ignoreTrailingWhiteSpace\": True,  # Ignorar espacios en blanco al final de los valores del CSV\n",
    "    # \"schema\":schema\n",
    "    \"inferSchema\":True\n",
    "}\n",
    "\n",
    "# schema = StructType([\n",
    "    # StructField(\"id\", StringType(), True),\n",
    "    # StructField(\"level8\", StringType(), True),\n",
    "    # StructField(\"value\", IntegerType(), True),\n",
    "# ])\n",
    "# df = spark.read.option('header','true').csv(\"data1.csv\",inferSchema=True)\n",
    "df = spark.read.csv(\"data210_310.csv\",  **csv_options) # , inferSchema=True, header= 'true', schema=schema)"
   ]
  },
  {
   "cell_type": "code",
   "execution_count": 7,
   "id": "1005ad59-81da-4ff1-b3c6-e9b24708f7c6",
   "metadata": {},
   "outputs": [
    {
     "name": "stderr",
     "output_type": "stream",
     "text": [
      "24/03/01 16:32:27 WARN CSVHeaderChecker: CSV header does not conform to the schema.\n",
      " Header: id, type, subtype, external_contract, invalid, new, advertiser, description, transactions, transaction_type, value, reduced, periodicity_id, ubication, zipcode, highlight, date, energy_letter, energy_value, environment_letter, environment_value, multimedia_type_2, multimedia_type_6, multimedia_type_12, multimedia_type_21, multimedia_type_5, rooms, bathrooms, surface, energyCertificate, orientation, hotWater, heating, conservationState, antiquity, floor, surfaceLand, orientation, conservationState, antiquity, furnished, hotWater, heating, floor, elevator, parking, Parquet, Cocina Office, Horno, Balcón, Gres Cerámica, Terraza, Patio, Lavadero, Cocina Equipada, Electrodomésticos, Lavadora, Microondas, Nevera, TV, Aire acondicionado, Armarios, Suite - con baño, Trastero, Puerta Blindada, Calefacción, Internet, Jardín Privado, Serv. portería, Piscina, Z. Comunitaria, Zona Infantil, Piscina comunitaria, Alarma, Ascensor interior, Videoportero, Domótica, Sauna, Gimnasio, Pista de Tenis, Zona Deportiva, Sistema Video vigilancia CCTV 24h, Baño de huéspedes, Porche cubierto, Cuarto para el servicio, Sala de cine, Jacuzzi, Energía Solar, Cuarto lavado plancha, Bodega, country, level1, level2, level3, level4, level5, level6, level7, level8, upperLevel, countryId, level1Id, level2Id, level3Id, level4Id, level5Id, level6Id, level7Id, level8Id, accuracy, latitude, longitude\n",
      " Schema: id, type, subtype, external_contract, invalid, new, advertiser, description, transactions, transaction_type, value, reduced, periodicity_id, ubication, zipcode, highlight, date, energy_letter, energy_value, environment_letter, environment_value, multimedia_type_2, multimedia_type_6, multimedia_type_12, multimedia_type_21, multimedia_type_5, rooms, bathrooms, surface, energyCertificate, orientation30, hotWater31, heating32, conservationState33, antiquity34, floor35, surfaceLand, orientation37, conservationState38, antiquity39, furnished, hotWater41, heating42, floor43, elevator, parking, Parquet, Cocina Office, Horno, Balcón, Gres Cerámica, Terraza, Patio, Lavadero, Cocina Equipada, Electrodomésticos, Lavadora, Microondas, Nevera, TV, Aire acondicionado, Armarios, Suite - con baño, Trastero, Puerta Blindada, Calefacción, Internet, Jardín Privado, Serv. portería, Piscina, Z. Comunitaria, Zona Infantil, Piscina comunitaria, Alarma, Ascensor interior, Videoportero, Domótica, Sauna, Gimnasio, Pista de Tenis, Zona Deportiva, Sistema Video vigilancia CCTV 24h, Baño de huéspedes, Porche cubierto, Cuarto para el servicio, Sala de cine, Jacuzzi, Energía Solar, Cuarto lavado plancha, Bodega, country, level1, level2, level3, level4, level5, level6, level7, level8, upperLevel, countryId, level1Id, level2Id, level3Id, level4Id, level5Id, level6Id, level7Id, level8Id, accuracy, latitude, longitude\n",
      "Expected: orientation30 but found: orientation\n",
      "CSV file: file:///Users/josep/Documents/FlatsHousesStudyBCN/data210_310.csv\n"
     ]
    },
    {
     "name": "stdout",
     "output_type": "stream",
     "text": [
      "+---------+--------------------+-------+\n",
      "|       id|              level7|  value|\n",
      "+---------+--------------------+-------+\n",
      "|181354183|        Ciutat Vella| 310000|\n",
      "|181368065|          Sant Martí| 373000|\n",
      "|181628787|            Eixample| 596000|\n",
      "|181607356|           Les Corts| 530000|\n",
      "|178670316|           Les Corts| 490000|\n",
      "|179103362|    Horta - Guinardó| 490000|\n",
      "|176317665|          Nou Barris| 250000|\n",
      "|176315153|         Sant Andreu| 423000|\n",
      "|181778859|    Horta - Guinardó| 800000|\n",
      "|177868160|        Ciutat Vella| 315000|\n",
      "|181529802|    Sants - Montjuïc| 199000|\n",
      "|181568183|            Eixample| 500000|\n",
      "|178177353|           Les Corts|1250000|\n",
      "|181402728|          Nou Barris| 255000|\n",
      "|178353774|           Les Corts|1250000|\n",
      "|179759313|        Ciutat Vella|1101400|\n",
      "|179688782|            Eixample| 860000|\n",
      "|179025853|          Sant Martí| 239000|\n",
      "|181531162|Sarrià - Sant Ger...| 500000|\n",
      "|181820040|    Horta - Guinardó| 430000|\n",
      "+---------+--------------------+-------+\n",
      "only showing top 20 rows\n",
      "\n"
     ]
    }
   ],
   "source": [
    "# df.columns\n",
    "# df.head(4)\n",
    "df = df.select([\"id\", \"level7\", \"value\"])\n",
    "df.show()"
   ]
  },
  {
   "cell_type": "code",
   "execution_count": 8,
   "id": "09bbbfb9-02f0-450a-9352-1923a95ecfda",
   "metadata": {},
   "outputs": [
    {
     "name": "stderr",
     "output_type": "stream",
     "text": [
      "24/03/01 16:32:29 WARN CSVHeaderChecker: CSV header does not conform to the schema.\n",
      " Header: id, type, subtype, external_contract, invalid, new, advertiser, description, transactions, transaction_type, value, reduced, periodicity_id, ubication, zipcode, highlight, date, energy_letter, energy_value, environment_letter, environment_value, multimedia_type_2, multimedia_type_6, multimedia_type_12, multimedia_type_21, multimedia_type_5, rooms, bathrooms, surface, energyCertificate, orientation, hotWater, heating, conservationState, antiquity, floor, surfaceLand, orientation, conservationState, antiquity, furnished, hotWater, heating, floor, elevator, parking, Parquet, Cocina Office, Horno, Balcón, Gres Cerámica, Terraza, Patio, Lavadero, Cocina Equipada, Electrodomésticos, Lavadora, Microondas, Nevera, TV, Aire acondicionado, Armarios, Suite - con baño, Trastero, Puerta Blindada, Calefacción, Internet, Jardín Privado, Serv. portería, Piscina, Z. Comunitaria, Zona Infantil, Piscina comunitaria, Alarma, Ascensor interior, Videoportero, Domótica, Sauna, Gimnasio, Pista de Tenis, Zona Deportiva, Sistema Video vigilancia CCTV 24h, Baño de huéspedes, Porche cubierto, Cuarto para el servicio, Sala de cine, Jacuzzi, Energía Solar, Cuarto lavado plancha, Bodega, country, level1, level2, level3, level4, level5, level6, level7, level8, upperLevel, countryId, level1Id, level2Id, level3Id, level4Id, level5Id, level6Id, level7Id, level8Id, accuracy, latitude, longitude\n",
      " Schema: id, type, subtype, external_contract, invalid, new, advertiser, description, transactions, transaction_type, value, reduced, periodicity_id, ubication, zipcode, highlight, date, energy_letter, energy_value, environment_letter, environment_value, multimedia_type_2, multimedia_type_6, multimedia_type_12, multimedia_type_21, multimedia_type_5, rooms, bathrooms, surface, energyCertificate, orientation30, hotWater31, heating32, conservationState33, antiquity34, floor35, surfaceLand, orientation37, conservationState38, antiquity39, furnished, hotWater41, heating42, floor43, elevator, parking, Parquet, Cocina Office, Horno, Balcón, Gres Cerámica, Terraza, Patio, Lavadero, Cocina Equipada, Electrodomésticos, Lavadora, Microondas, Nevera, TV, Aire acondicionado, Armarios, Suite - con baño, Trastero, Puerta Blindada, Calefacción, Internet, Jardín Privado, Serv. portería, Piscina, Z. Comunitaria, Zona Infantil, Piscina comunitaria, Alarma, Ascensor interior, Videoportero, Domótica, Sauna, Gimnasio, Pista de Tenis, Zona Deportiva, Sistema Video vigilancia CCTV 24h, Baño de huéspedes, Porche cubierto, Cuarto para el servicio, Sala de cine, Jacuzzi, Energía Solar, Cuarto lavado plancha, Bodega, country, level1, level2, level3, level4, level5, level6, level7, level8, upperLevel, countryId, level1Id, level2Id, level3Id, level4Id, level5Id, level6Id, level7Id, level8Id, accuracy, latitude, longitude\n",
      "Expected: orientation30 but found: orientation\n",
      "CSV file: file:///Users/josep/Documents/FlatsHousesStudyBCN/data210_310.csv\n",
      "[Stage 3:>                                                          (0 + 1) / 1]\r"
     ]
    },
    {
     "name": "stdout",
     "output_type": "stream",
     "text": [
      "+-------+--------------------+--------------------+-----------------+\n",
      "|summary|                  id|              level7|            value|\n",
      "+-------+--------------------+--------------------+-----------------+\n",
      "|  count|                2955|                2955|             2955|\n",
      "|   mean|1.7856323906328258E8|                NULL|556157.8524534687|\n",
      "| stddev|   5600043.911564616|                NULL| 527055.974744297|\n",
      "|    min|           144318805|        Ciutat Vella|            39900|\n",
      "|    max|           181972113|Sarrià - Sant Ger...|          6000000|\n",
      "+-------+--------------------+--------------------+-----------------+\n",
      "\n"
     ]
    },
    {
     "name": "stderr",
     "output_type": "stream",
     "text": [
      "                                                                                \r"
     ]
    }
   ],
   "source": [
    "# df.show()\n",
    "# df.printSchema()\n",
    "# df.dtypes\n",
    "df.describe().show()"
   ]
  },
  {
   "cell_type": "code",
   "execution_count": 9,
   "id": "847bd346-b97e-4402-82ca-af426c66a0c4",
   "metadata": {},
   "outputs": [],
   "source": [
    "# df[\"id\"]\n",
    "# df.select(\"id\").show()"
   ]
  },
  {
   "cell_type": "code",
   "execution_count": 10,
   "id": "7fb99fc5-d5ee-4481-8286-a232e313ba32",
   "metadata": {},
   "outputs": [
    {
     "name": "stdout",
     "output_type": "stream",
     "text": [
      "+---------+----------------+------+---------------------+\n",
      "|       id|          level7| value|value_inflation_1year|\n",
      "+---------+----------------+------+---------------------+\n",
      "|181529802|Sants - Montjuïc|199000|             204970.0|\n",
      "|181798114|    Ciutat Vella|169000|             174070.0|\n",
      "|181753991|Sants - Montjuïc|139000|             143170.0|\n",
      "|181718985|    Ciutat Vella|199000|             204970.0|\n",
      "|181420837|     Sant Andreu|199900|             205897.0|\n",
      "|179249141|Horta - Guinardó| 70000|              72100.0|\n",
      "|177613697|Sants - Montjuïc|199900|             205897.0|\n",
      "|179654634|    Ciutat Vella|155000|             159650.0|\n",
      "|178454276|    Ciutat Vella|175000|             180250.0|\n",
      "|181562182|Sants - Montjuïc|199000|             204970.0|\n",
      "|181389319|      Sant Martí| 95000|              97850.0|\n",
      "|163449744|    Ciutat Vella|190000|             195700.0|\n",
      "|181266594|Sants - Montjuïc|185000|             190550.0|\n",
      "|176650359|Horta - Guinardó|142000|             146260.0|\n",
      "|176944365|      Nou Barris|179900|             185297.0|\n",
      "|179723321|Sants - Montjuïc|185000|             190550.0|\n",
      "|177274324|Horta - Guinardó|171000|             176130.0|\n",
      "|161739118|    Ciutat Vella|170000|             175100.0|\n",
      "|177122504|Horta - Guinardó|128500|             132355.0|\n",
      "|179331039|Sants - Montjuïc|198000|             203940.0|\n",
      "+---------+----------------+------+---------------------+\n",
      "only showing top 20 rows\n",
      "\n"
     ]
    },
    {
     "name": "stderr",
     "output_type": "stream",
     "text": [
      "24/03/01 16:32:31 WARN CSVHeaderChecker: CSV header does not conform to the schema.\n",
      " Header: id, type, subtype, external_contract, invalid, new, advertiser, description, transactions, transaction_type, value, reduced, periodicity_id, ubication, zipcode, highlight, date, energy_letter, energy_value, environment_letter, environment_value, multimedia_type_2, multimedia_type_6, multimedia_type_12, multimedia_type_21, multimedia_type_5, rooms, bathrooms, surface, energyCertificate, orientation, hotWater, heating, conservationState, antiquity, floor, surfaceLand, orientation, conservationState, antiquity, furnished, hotWater, heating, floor, elevator, parking, Parquet, Cocina Office, Horno, Balcón, Gres Cerámica, Terraza, Patio, Lavadero, Cocina Equipada, Electrodomésticos, Lavadora, Microondas, Nevera, TV, Aire acondicionado, Armarios, Suite - con baño, Trastero, Puerta Blindada, Calefacción, Internet, Jardín Privado, Serv. portería, Piscina, Z. Comunitaria, Zona Infantil, Piscina comunitaria, Alarma, Ascensor interior, Videoportero, Domótica, Sauna, Gimnasio, Pista de Tenis, Zona Deportiva, Sistema Video vigilancia CCTV 24h, Baño de huéspedes, Porche cubierto, Cuarto para el servicio, Sala de cine, Jacuzzi, Energía Solar, Cuarto lavado plancha, Bodega, country, level1, level2, level3, level4, level5, level6, level7, level8, upperLevel, countryId, level1Id, level2Id, level3Id, level4Id, level5Id, level6Id, level7Id, level8Id, accuracy, latitude, longitude\n",
      " Schema: id, type, subtype, external_contract, invalid, new, advertiser, description, transactions, transaction_type, value, reduced, periodicity_id, ubication, zipcode, highlight, date, energy_letter, energy_value, environment_letter, environment_value, multimedia_type_2, multimedia_type_6, multimedia_type_12, multimedia_type_21, multimedia_type_5, rooms, bathrooms, surface, energyCertificate, orientation30, hotWater31, heating32, conservationState33, antiquity34, floor35, surfaceLand, orientation37, conservationState38, antiquity39, furnished, hotWater41, heating42, floor43, elevator, parking, Parquet, Cocina Office, Horno, Balcón, Gres Cerámica, Terraza, Patio, Lavadero, Cocina Equipada, Electrodomésticos, Lavadora, Microondas, Nevera, TV, Aire acondicionado, Armarios, Suite - con baño, Trastero, Puerta Blindada, Calefacción, Internet, Jardín Privado, Serv. portería, Piscina, Z. Comunitaria, Zona Infantil, Piscina comunitaria, Alarma, Ascensor interior, Videoportero, Domótica, Sauna, Gimnasio, Pista de Tenis, Zona Deportiva, Sistema Video vigilancia CCTV 24h, Baño de huéspedes, Porche cubierto, Cuarto para el servicio, Sala de cine, Jacuzzi, Energía Solar, Cuarto lavado plancha, Bodega, country, level1, level2, level3, level4, level5, level6, level7, level8, upperLevel, countryId, level1Id, level2Id, level3Id, level4Id, level5Id, level6Id, level7Id, level8Id, accuracy, latitude, longitude\n",
      "Expected: orientation30 but found: orientation\n",
      "CSV file: file:///Users/josep/Documents/FlatsHousesStudyBCN/data210_310.csv\n"
     ]
    }
   ],
   "source": [
    "df = df.withColumn(\"id\", df[\"id\"].cast(\"int\"))\n",
    "df = df.withColumn(\"value_inflation_1year\", df[\"value\"]+(df[\"value\"]*0.03))\n",
    "# df.drop(\"value\").show()\n",
    "# df.show()\n",
    "\n",
    "df.filter(df[\"value\"]<200000).show()"
   ]
  },
  {
   "cell_type": "code",
   "execution_count": 11,
   "id": "70074835-6f53-463c-850d-1d0e3ddead73",
   "metadata": {},
   "outputs": [
    {
     "name": "stdout",
     "output_type": "stream",
     "text": [
      "+---------+--------------------+-------+---------------------+\n",
      "|  id_flat|              level7|  value|value_inflation_1year|\n",
      "+---------+--------------------+-------+---------------------+\n",
      "|181354183|        Ciutat Vella| 310000|             319300.0|\n",
      "|181368065|          Sant Martí| 373000|             384190.0|\n",
      "|181628787|            Eixample| 596000|             613880.0|\n",
      "|181607356|           Les Corts| 530000|             545900.0|\n",
      "|178670316|           Les Corts| 490000|             504700.0|\n",
      "|179103362|    Horta - Guinardó| 490000|             504700.0|\n",
      "|176317665|          Nou Barris| 250000|             257500.0|\n",
      "|176315153|         Sant Andreu| 423000|             435690.0|\n",
      "|181778859|    Horta - Guinardó| 800000|             824000.0|\n",
      "|177868160|        Ciutat Vella| 315000|             324450.0|\n",
      "|181529802|    Sants - Montjuïc| 199000|             204970.0|\n",
      "|181568183|            Eixample| 500000|             515000.0|\n",
      "|178177353|           Les Corts|1250000|            1287500.0|\n",
      "|181402728|          Nou Barris| 255000|             262650.0|\n",
      "|178353774|           Les Corts|1250000|            1287500.0|\n",
      "|179759313|        Ciutat Vella|1101400|            1134442.0|\n",
      "|179688782|            Eixample| 860000|             885800.0|\n",
      "|179025853|          Sant Martí| 239000|             246170.0|\n",
      "|181531162|Sarrià - Sant Ger...| 500000|             515000.0|\n",
      "|181820040|    Horta - Guinardó| 430000|             442900.0|\n",
      "+---------+--------------------+-------+---------------------+\n",
      "only showing top 20 rows\n",
      "\n"
     ]
    },
    {
     "name": "stderr",
     "output_type": "stream",
     "text": [
      "24/03/01 16:32:31 WARN CSVHeaderChecker: CSV header does not conform to the schema.\n",
      " Header: id, type, subtype, external_contract, invalid, new, advertiser, description, transactions, transaction_type, value, reduced, periodicity_id, ubication, zipcode, highlight, date, energy_letter, energy_value, environment_letter, environment_value, multimedia_type_2, multimedia_type_6, multimedia_type_12, multimedia_type_21, multimedia_type_5, rooms, bathrooms, surface, energyCertificate, orientation, hotWater, heating, conservationState, antiquity, floor, surfaceLand, orientation, conservationState, antiquity, furnished, hotWater, heating, floor, elevator, parking, Parquet, Cocina Office, Horno, Balcón, Gres Cerámica, Terraza, Patio, Lavadero, Cocina Equipada, Electrodomésticos, Lavadora, Microondas, Nevera, TV, Aire acondicionado, Armarios, Suite - con baño, Trastero, Puerta Blindada, Calefacción, Internet, Jardín Privado, Serv. portería, Piscina, Z. Comunitaria, Zona Infantil, Piscina comunitaria, Alarma, Ascensor interior, Videoportero, Domótica, Sauna, Gimnasio, Pista de Tenis, Zona Deportiva, Sistema Video vigilancia CCTV 24h, Baño de huéspedes, Porche cubierto, Cuarto para el servicio, Sala de cine, Jacuzzi, Energía Solar, Cuarto lavado plancha, Bodega, country, level1, level2, level3, level4, level5, level6, level7, level8, upperLevel, countryId, level1Id, level2Id, level3Id, level4Id, level5Id, level6Id, level7Id, level8Id, accuracy, latitude, longitude\n",
      " Schema: id, type, subtype, external_contract, invalid, new, advertiser, description, transactions, transaction_type, value, reduced, periodicity_id, ubication, zipcode, highlight, date, energy_letter, energy_value, environment_letter, environment_value, multimedia_type_2, multimedia_type_6, multimedia_type_12, multimedia_type_21, multimedia_type_5, rooms, bathrooms, surface, energyCertificate, orientation30, hotWater31, heating32, conservationState33, antiquity34, floor35, surfaceLand, orientation37, conservationState38, antiquity39, furnished, hotWater41, heating42, floor43, elevator, parking, Parquet, Cocina Office, Horno, Balcón, Gres Cerámica, Terraza, Patio, Lavadero, Cocina Equipada, Electrodomésticos, Lavadora, Microondas, Nevera, TV, Aire acondicionado, Armarios, Suite - con baño, Trastero, Puerta Blindada, Calefacción, Internet, Jardín Privado, Serv. portería, Piscina, Z. Comunitaria, Zona Infantil, Piscina comunitaria, Alarma, Ascensor interior, Videoportero, Domótica, Sauna, Gimnasio, Pista de Tenis, Zona Deportiva, Sistema Video vigilancia CCTV 24h, Baño de huéspedes, Porche cubierto, Cuarto para el servicio, Sala de cine, Jacuzzi, Energía Solar, Cuarto lavado plancha, Bodega, country, level1, level2, level3, level4, level5, level6, level7, level8, upperLevel, countryId, level1Id, level2Id, level3Id, level4Id, level5Id, level6Id, level7Id, level8Id, accuracy, latitude, longitude\n",
      "Expected: orientation30 but found: orientation\n",
      "CSV file: file:///Users/josep/Documents/FlatsHousesStudyBCN/data210_310.csv\n"
     ]
    }
   ],
   "source": [
    "df.withColumnRenamed(\"id\",\"id_flat\").show()"
   ]
  },
  {
   "cell_type": "markdown",
   "id": "0546cc69-7f7b-4672-b851-d368adb2c934",
   "metadata": {},
   "source": [
    "## Nulls"
   ]
  },
  {
   "cell_type": "code",
   "execution_count": 12,
   "id": "a5b555e7-385e-4478-b295-0e4715b25d31",
   "metadata": {},
   "outputs": [
    {
     "name": "stdout",
     "output_type": "stream",
     "text": [
      "+---------+--------------------+-------+---------------------+\n",
      "|       id|              level7|  value|value_inflation_1year|\n",
      "+---------+--------------------+-------+---------------------+\n",
      "|181354183|        Ciutat Vella| 310000|             319300.0|\n",
      "|181368065|          Sant Martí| 373000|             384190.0|\n",
      "|181628787|            Eixample| 596000|             613880.0|\n",
      "|181607356|           Les Corts| 530000|             545900.0|\n",
      "|178670316|           Les Corts| 490000|             504700.0|\n",
      "|179103362|    Horta - Guinardó| 490000|             504700.0|\n",
      "|176317665|          Nou Barris| 250000|             257500.0|\n",
      "|176315153|         Sant Andreu| 423000|             435690.0|\n",
      "|181778859|    Horta - Guinardó| 800000|             824000.0|\n",
      "|177868160|        Ciutat Vella| 315000|             324450.0|\n",
      "|181529802|    Sants - Montjuïc| 199000|             204970.0|\n",
      "|181568183|            Eixample| 500000|             515000.0|\n",
      "|178177353|           Les Corts|1250000|            1287500.0|\n",
      "|181402728|          Nou Barris| 255000|             262650.0|\n",
      "|178353774|           Les Corts|1250000|            1287500.0|\n",
      "|179759313|        Ciutat Vella|1101400|            1134442.0|\n",
      "|179688782|            Eixample| 860000|             885800.0|\n",
      "|179025853|          Sant Martí| 239000|             246170.0|\n",
      "|181531162|Sarrià - Sant Ger...| 500000|             515000.0|\n",
      "|181820040|    Horta - Guinardó| 430000|             442900.0|\n",
      "+---------+--------------------+-------+---------------------+\n",
      "only showing top 20 rows\n",
      "\n"
     ]
    },
    {
     "name": "stderr",
     "output_type": "stream",
     "text": [
      "24/03/01 16:32:32 WARN CSVHeaderChecker: CSV header does not conform to the schema.\n",
      " Header: id, type, subtype, external_contract, invalid, new, advertiser, description, transactions, transaction_type, value, reduced, periodicity_id, ubication, zipcode, highlight, date, energy_letter, energy_value, environment_letter, environment_value, multimedia_type_2, multimedia_type_6, multimedia_type_12, multimedia_type_21, multimedia_type_5, rooms, bathrooms, surface, energyCertificate, orientation, hotWater, heating, conservationState, antiquity, floor, surfaceLand, orientation, conservationState, antiquity, furnished, hotWater, heating, floor, elevator, parking, Parquet, Cocina Office, Horno, Balcón, Gres Cerámica, Terraza, Patio, Lavadero, Cocina Equipada, Electrodomésticos, Lavadora, Microondas, Nevera, TV, Aire acondicionado, Armarios, Suite - con baño, Trastero, Puerta Blindada, Calefacción, Internet, Jardín Privado, Serv. portería, Piscina, Z. Comunitaria, Zona Infantil, Piscina comunitaria, Alarma, Ascensor interior, Videoportero, Domótica, Sauna, Gimnasio, Pista de Tenis, Zona Deportiva, Sistema Video vigilancia CCTV 24h, Baño de huéspedes, Porche cubierto, Cuarto para el servicio, Sala de cine, Jacuzzi, Energía Solar, Cuarto lavado plancha, Bodega, country, level1, level2, level3, level4, level5, level6, level7, level8, upperLevel, countryId, level1Id, level2Id, level3Id, level4Id, level5Id, level6Id, level7Id, level8Id, accuracy, latitude, longitude\n",
      " Schema: id, type, subtype, external_contract, invalid, new, advertiser, description, transactions, transaction_type, value, reduced, periodicity_id, ubication, zipcode, highlight, date, energy_letter, energy_value, environment_letter, environment_value, multimedia_type_2, multimedia_type_6, multimedia_type_12, multimedia_type_21, multimedia_type_5, rooms, bathrooms, surface, energyCertificate, orientation30, hotWater31, heating32, conservationState33, antiquity34, floor35, surfaceLand, orientation37, conservationState38, antiquity39, furnished, hotWater41, heating42, floor43, elevator, parking, Parquet, Cocina Office, Horno, Balcón, Gres Cerámica, Terraza, Patio, Lavadero, Cocina Equipada, Electrodomésticos, Lavadora, Microondas, Nevera, TV, Aire acondicionado, Armarios, Suite - con baño, Trastero, Puerta Blindada, Calefacción, Internet, Jardín Privado, Serv. portería, Piscina, Z. Comunitaria, Zona Infantil, Piscina comunitaria, Alarma, Ascensor interior, Videoportero, Domótica, Sauna, Gimnasio, Pista de Tenis, Zona Deportiva, Sistema Video vigilancia CCTV 24h, Baño de huéspedes, Porche cubierto, Cuarto para el servicio, Sala de cine, Jacuzzi, Energía Solar, Cuarto lavado plancha, Bodega, country, level1, level2, level3, level4, level5, level6, level7, level8, upperLevel, countryId, level1Id, level2Id, level3Id, level4Id, level5Id, level6Id, level7Id, level8Id, accuracy, latitude, longitude\n",
      "Expected: orientation30 but found: orientation\n",
      "CSV file: file:///Users/josep/Documents/FlatsHousesStudyBCN/data210_310.csv\n"
     ]
    }
   ],
   "source": [
    "df.na.drop(how=\"any\", subset=[\"value\"]).show() # how=\"all\" to only drop if all are null, thresh=...\n"
   ]
  },
  {
   "cell_type": "code",
   "execution_count": 13,
   "id": "24fc03a3-a8cb-4b1f-a284-a080f88142e1",
   "metadata": {},
   "outputs": [],
   "source": [
    "# Filling nulls\n",
    "# df.na.fill(\"NAN\")\n",
    "# df.na.fill(\"nan\", [\"value\",\"value_inflation_1year\"])"
   ]
  },
  {
   "cell_type": "markdown",
   "id": "f40c3706-8986-4c04-b21b-fcfffa079ffc",
   "metadata": {},
   "source": [
    "## Group By"
   ]
  },
  {
   "cell_type": "code",
   "execution_count": 14,
   "id": "786e7bd2-5d00-47fe-aed7-9a75b29fb2c2",
   "metadata": {},
   "outputs": [],
   "source": [
    "df_grouped = df.groupby(\"level7\").agg({\"id\":\"count\",\"value\":\"mean\",\"value_inflation_1year\":\"mean\"})"
   ]
  },
  {
   "cell_type": "code",
   "execution_count": 15,
   "id": "0286a3f3-cad5-4744-9740-53182bddc387",
   "metadata": {},
   "outputs": [
    {
     "name": "stderr",
     "output_type": "stream",
     "text": [
      "24/03/01 16:32:32 WARN CSVHeaderChecker: CSV header does not conform to the schema.\n",
      " Header: id, type, subtype, external_contract, invalid, new, advertiser, description, transactions, transaction_type, value, reduced, periodicity_id, ubication, zipcode, highlight, date, energy_letter, energy_value, environment_letter, environment_value, multimedia_type_2, multimedia_type_6, multimedia_type_12, multimedia_type_21, multimedia_type_5, rooms, bathrooms, surface, energyCertificate, orientation, hotWater, heating, conservationState, antiquity, floor, surfaceLand, orientation, conservationState, antiquity, furnished, hotWater, heating, floor, elevator, parking, Parquet, Cocina Office, Horno, Balcón, Gres Cerámica, Terraza, Patio, Lavadero, Cocina Equipada, Electrodomésticos, Lavadora, Microondas, Nevera, TV, Aire acondicionado, Armarios, Suite - con baño, Trastero, Puerta Blindada, Calefacción, Internet, Jardín Privado, Serv. portería, Piscina, Z. Comunitaria, Zona Infantil, Piscina comunitaria, Alarma, Ascensor interior, Videoportero, Domótica, Sauna, Gimnasio, Pista de Tenis, Zona Deportiva, Sistema Video vigilancia CCTV 24h, Baño de huéspedes, Porche cubierto, Cuarto para el servicio, Sala de cine, Jacuzzi, Energía Solar, Cuarto lavado plancha, Bodega, country, level1, level2, level3, level4, level5, level6, level7, level8, upperLevel, countryId, level1Id, level2Id, level3Id, level4Id, level5Id, level6Id, level7Id, level8Id, accuracy, latitude, longitude\n",
      " Schema: id, type, subtype, external_contract, invalid, new, advertiser, description, transactions, transaction_type, value, reduced, periodicity_id, ubication, zipcode, highlight, date, energy_letter, energy_value, environment_letter, environment_value, multimedia_type_2, multimedia_type_6, multimedia_type_12, multimedia_type_21, multimedia_type_5, rooms, bathrooms, surface, energyCertificate, orientation30, hotWater31, heating32, conservationState33, antiquity34, floor35, surfaceLand, orientation37, conservationState38, antiquity39, furnished, hotWater41, heating42, floor43, elevator, parking, Parquet, Cocina Office, Horno, Balcón, Gres Cerámica, Terraza, Patio, Lavadero, Cocina Equipada, Electrodomésticos, Lavadora, Microondas, Nevera, TV, Aire acondicionado, Armarios, Suite - con baño, Trastero, Puerta Blindada, Calefacción, Internet, Jardín Privado, Serv. portería, Piscina, Z. Comunitaria, Zona Infantil, Piscina comunitaria, Alarma, Ascensor interior, Videoportero, Domótica, Sauna, Gimnasio, Pista de Tenis, Zona Deportiva, Sistema Video vigilancia CCTV 24h, Baño de huéspedes, Porche cubierto, Cuarto para el servicio, Sala de cine, Jacuzzi, Energía Solar, Cuarto lavado plancha, Bodega, country, level1, level2, level3, level4, level5, level6, level7, level8, upperLevel, countryId, level1Id, level2Id, level3Id, level4Id, level5Id, level6Id, level7Id, level8Id, accuracy, latitude, longitude\n",
      "Expected: orientation30 but found: orientation\n",
      "CSV file: file:///Users/josep/Documents/FlatsHousesStudyBCN/data210_310.csv\n"
     ]
    },
    {
     "name": "stdout",
     "output_type": "stream",
     "text": [
      "+--------------------+---------+--------------------------+------------------+------------------+\n",
      "|              level7|count(id)|avg(value_inflation_1year)|        avg(value)|              diff|\n",
      "+--------------------+---------+--------------------------+------------------+------------------+\n",
      "|              Gràcia|      193|         546475.8393782383|  530559.067357513|  15916.7720207253|\n",
      "|          Sant Martí|      355|         525557.6943943661|510250.18873239437| 15307.50566197175|\n",
      "|           Les Corts|      140|         825063.1071428572| 801032.1428571428| 24030.96428571432|\n",
      "|    Horta - Guinardó|      205|         368190.9597560976| 357466.9512195122|10724.008536585374|\n",
      "|          Nou Barris|      224|        246194.78437500002|       239024.0625|7170.7218750000175|\n",
      "|Sarrià - Sant Ger...|      264|        1084422.1568181817|1052837.0454545454| 31585.11136363633|\n",
      "|            Eixample|      598|         812800.5671404682| 789126.7642140468|  23673.8029264214|\n",
      "|    Sants - Montjuïc|      370|         296435.2527027027| 287801.2162162162| 8634.036486486497|\n",
      "|         Sant Andreu|      143|          317533.586013986|  308285.034965035|  9248.55104895099|\n",
      "|        Ciutat Vella|      463|         490585.0557451404|476296.17062634986|14288.885118790553|\n",
      "+--------------------+---------+--------------------------+------------------+------------------+\n",
      "\n"
     ]
    }
   ],
   "source": [
    "df_grouped.withColumn(\"diff\",df_grouped[\"avg(value_inflation_1year)\"]-df_grouped[\"avg(value)\"]).show()"
   ]
  },
  {
   "cell_type": "code",
   "execution_count": 16,
   "id": "0ce189c9-b38a-4920-beef-030f03d1cd47",
   "metadata": {},
   "outputs": [
    {
     "data": {
      "text/plain": [
       "pyspark.sql.dataframe.DataFrame"
      ]
     },
     "execution_count": 16,
     "metadata": {},
     "output_type": "execute_result"
    }
   ],
   "source": [
    "type(df_grouped)"
   ]
  },
  {
   "cell_type": "markdown",
   "id": "2ba578f0-808e-4934-b905-04dd833ea33f",
   "metadata": {},
   "source": [
    "## Joins and concat"
   ]
  },
  {
   "cell_type": "code",
   "execution_count": 17,
   "id": "c842084a-dde4-4d6d-b6a3-982b11c2b2d9",
   "metadata": {},
   "outputs": [],
   "source": [
    "# joined_df = df1.join(df2, df1[\"common_column\"] == df2[\"common_column\"], how=\"inner\")\n",
    "# joined_df = df1.join(df2, (df1[\"column1\"] == df2[\"columnA\"]) & (df1[\"column2\"] == df2[\"columnB\"]), how=\"inner\")\n"
   ]
  },
  {
   "cell_type": "code",
   "execution_count": 18,
   "id": "a83a5eaf-43c8-480c-9173-8f446fa5a93f",
   "metadata": {},
   "outputs": [],
   "source": [
    "df1 = spark.read.csv(\"data210_310.csv\",  **csv_options).select([\"id\", \"level7\", \"value\"]) # , inferSchema=True, header= 'true', schema=schema)\n",
    "df2 = spark.read.csv(\"data310_410.csv\",  **csv_options).select([\"id\", \"level7\", \"value\"]) # , inferSchema=True, header= 'true', schema=schema)"
   ]
  },
  {
   "cell_type": "code",
   "execution_count": 19,
   "id": "daf7dfb3-5807-43f1-81b0-40ec9bbcce2b",
   "metadata": {},
   "outputs": [],
   "source": [
    "concatenated_df = df1.union(df2)\n",
    "#df = df.select([\"id\", \"level7\", \"value\"])\n"
   ]
  },
  {
   "cell_type": "code",
   "execution_count": 20,
   "id": "770bc1a4-091c-4c96-a92c-d1442c4ed854",
   "metadata": {},
   "outputs": [
    {
     "name": "stderr",
     "output_type": "stream",
     "text": [
      "24/03/01 16:32:34 WARN CSVHeaderChecker: CSV header does not conform to the schema.\n",
      " Header: id, type, subtype, external_contract, invalid, new, advertiser, description, transactions, transaction_type, value, reduced, periodicity_id, ubication, zipcode, highlight, date, energy_letter, energy_value, environment_letter, environment_value, multimedia_type_2, multimedia_type_21, multimedia_type_6, multimedia_type_12, multimedia_type_5, rooms, bathrooms, surface, energyCertificate, orientation, hotWater, heating, conservationState, antiquity, floor, surfaceLand, floor, elevator, orientation, conservationState, antiquity, furnished, parking, heating, hotWater, Aire acondicionado, Terraza, Balcón, Calefacción, Armarios, Electrodomésticos, Puerta Blindada, Cocina Equipada, Parquet, Lavadero, Ascensor interior, Cocina Office, Suite - con baño, Patio, Gres Cerámica, Lavadora, Microondas, Nevera, TV, Horno, Trastero, Baño de huéspedes, Jardín Privado, Piscina, Jacuzzi, Gimnasio, Sauna, Z. Comunitaria, Serv. portería, Videoportero, Piscina comunitaria, Alarma, Zona Deportiva, Internet, Sistema Video vigilancia CCTV 24h, Domótica, Porche cubierto, Zona Infantil, country, level1, level2, level3, level4, level5, level6, level7, level8, upperLevel, countryId, level1Id, level2Id, level3Id, level4Id, level5Id, level6Id, level7Id, level8Id, accuracy, latitude, longitude\n",
      " Schema: id, type, subtype, external_contract, invalid, new, advertiser, description, transactions, transaction_type, value, reduced, periodicity_id, ubication, zipcode, highlight, date, energy_letter, energy_value, environment_letter, environment_value, multimedia_type_2, multimedia_type_21, multimedia_type_6, multimedia_type_12, multimedia_type_5, rooms, bathrooms, surface, energyCertificate, orientation30, hotWater31, heating32, conservationState33, antiquity34, floor35, surfaceLand, floor37, elevator, orientation39, conservationState40, antiquity41, furnished, parking, heating44, hotWater45, Aire acondicionado, Terraza, Balcón, Calefacción, Armarios, Electrodomésticos, Puerta Blindada, Cocina Equipada, Parquet, Lavadero, Ascensor interior, Cocina Office, Suite - con baño, Patio, Gres Cerámica, Lavadora, Microondas, Nevera, TV, Horno, Trastero, Baño de huéspedes, Jardín Privado, Piscina, Jacuzzi, Gimnasio, Sauna, Z. Comunitaria, Serv. portería, Videoportero, Piscina comunitaria, Alarma, Zona Deportiva, Internet, Sistema Video vigilancia CCTV 24h, Domótica, Porche cubierto, Zona Infantil, country, level1, level2, level3, level4, level5, level6, level7, level8, upperLevel, countryId, level1Id, level2Id, level3Id, level4Id, level5Id, level6Id, level7Id, level8Id, accuracy, latitude, longitude\n",
      "Expected: orientation30 but found: orientation\n",
      "CSV file: file:///Users/josep/Documents/FlatsHousesStudyBCN/data310_410.csv\n",
      "24/03/01 16:32:34 WARN CSVHeaderChecker: CSV header does not conform to the schema.\n",
      " Header: id, type, subtype, external_contract, invalid, new, advertiser, description, transactions, transaction_type, value, reduced, periodicity_id, ubication, zipcode, highlight, date, energy_letter, energy_value, environment_letter, environment_value, multimedia_type_2, multimedia_type_6, multimedia_type_12, multimedia_type_21, multimedia_type_5, rooms, bathrooms, surface, energyCertificate, orientation, hotWater, heating, conservationState, antiquity, floor, surfaceLand, orientation, conservationState, antiquity, furnished, hotWater, heating, floor, elevator, parking, Parquet, Cocina Office, Horno, Balcón, Gres Cerámica, Terraza, Patio, Lavadero, Cocina Equipada, Electrodomésticos, Lavadora, Microondas, Nevera, TV, Aire acondicionado, Armarios, Suite - con baño, Trastero, Puerta Blindada, Calefacción, Internet, Jardín Privado, Serv. portería, Piscina, Z. Comunitaria, Zona Infantil, Piscina comunitaria, Alarma, Ascensor interior, Videoportero, Domótica, Sauna, Gimnasio, Pista de Tenis, Zona Deportiva, Sistema Video vigilancia CCTV 24h, Baño de huéspedes, Porche cubierto, Cuarto para el servicio, Sala de cine, Jacuzzi, Energía Solar, Cuarto lavado plancha, Bodega, country, level1, level2, level3, level4, level5, level6, level7, level8, upperLevel, countryId, level1Id, level2Id, level3Id, level4Id, level5Id, level6Id, level7Id, level8Id, accuracy, latitude, longitude\n",
      " Schema: id, type, subtype, external_contract, invalid, new, advertiser, description, transactions, transaction_type, value, reduced, periodicity_id, ubication, zipcode, highlight, date, energy_letter, energy_value, environment_letter, environment_value, multimedia_type_2, multimedia_type_6, multimedia_type_12, multimedia_type_21, multimedia_type_5, rooms, bathrooms, surface, energyCertificate, orientation30, hotWater31, heating32, conservationState33, antiquity34, floor35, surfaceLand, orientation37, conservationState38, antiquity39, furnished, hotWater41, heating42, floor43, elevator, parking, Parquet, Cocina Office, Horno, Balcón, Gres Cerámica, Terraza, Patio, Lavadero, Cocina Equipada, Electrodomésticos, Lavadora, Microondas, Nevera, TV, Aire acondicionado, Armarios, Suite - con baño, Trastero, Puerta Blindada, Calefacción, Internet, Jardín Privado, Serv. portería, Piscina, Z. Comunitaria, Zona Infantil, Piscina comunitaria, Alarma, Ascensor interior, Videoportero, Domótica, Sauna, Gimnasio, Pista de Tenis, Zona Deportiva, Sistema Video vigilancia CCTV 24h, Baño de huéspedes, Porche cubierto, Cuarto para el servicio, Sala de cine, Jacuzzi, Energía Solar, Cuarto lavado plancha, Bodega, country, level1, level2, level3, level4, level5, level6, level7, level8, upperLevel, countryId, level1Id, level2Id, level3Id, level4Id, level5Id, level6Id, level7Id, level8Id, accuracy, latitude, longitude\n",
      "Expected: orientation30 but found: orientation\n",
      "CSV file: file:///Users/josep/Documents/FlatsHousesStudyBCN/data210_310.csv\n",
      "[Stage 16:>                                                         (0 + 2) / 2]\r"
     ]
    },
    {
     "name": "stdout",
     "output_type": "stream",
     "text": [
      "+---------+--------------------+-------+\n",
      "|       id|              level7|  value|\n",
      "+---------+--------------------+-------+\n",
      "|181368065|          Sant Martí| 373000|\n",
      "|181566056|              Gràcia| 670000|\n",
      "|181284469|              Gràcia| 385000|\n",
      "|181096441|        Ciutat Vella| 335000|\n",
      "|181232791|              Gràcia| 234000|\n",
      "|179374130|            Eixample| 490000|\n",
      "|181424830|          Nou Barris| 140000|\n",
      "|181346737|    Sants - Montjuïc| 200000|\n",
      "|179284990|            Eixample| 380000|\n",
      "|165191869|            Eixample|1150000|\n",
      "|181912046|            Eixample| 289000|\n",
      "|177451252|          Sant Martí| 399000|\n",
      "|178731969|Sarrià - Sant Ger...|2315000|\n",
      "|181237107|        Ciutat Vella| 242000|\n",
      "|181564678|          Sant Martí| 238000|\n",
      "|179749928|    Sants - Montjuïc| 300000|\n",
      "|181438056|          Sant Martí| 990000|\n",
      "|181568183|            Eixample| 500000|\n",
      "|181566171|           Les Corts| 530000|\n",
      "|178985562|Sarrià - Sant Ger...| 850000|\n",
      "+---------+--------------------+-------+\n",
      "only showing top 20 rows\n",
      "\n"
     ]
    },
    {
     "name": "stderr",
     "output_type": "stream",
     "text": [
      "                                                                                \r"
     ]
    }
   ],
   "source": [
    "concatenated_df.dropDuplicates().show()"
   ]
  }
 ],
 "metadata": {
  "kernelspec": {
   "display_name": "Python 3 (ipykernel)",
   "language": "python",
   "name": "python3"
  },
  "language_info": {
   "codemirror_mode": {
    "name": "ipython",
    "version": 3
   },
   "file_extension": ".py",
   "mimetype": "text/x-python",
   "name": "python",
   "nbconvert_exporter": "python",
   "pygments_lexer": "ipython3",
   "version": "3.8.10"
  }
 },
 "nbformat": 4,
 "nbformat_minor": 5
}
